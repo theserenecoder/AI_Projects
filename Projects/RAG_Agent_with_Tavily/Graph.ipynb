{
 "cells": [
  {
   "cell_type": "markdown",
   "id": "22a2ce43",
   "metadata": {},
   "source": [
    "## MultiModal RAG Agent with Tavily\n",
    "\n",
    "#### RAG Data Ingestion"
   ]
  },
  {
   "cell_type": "code",
   "execution_count": 94,
   "id": "215f751d",
   "metadata": {},
   "outputs": [],
   "source": [
    "from dotenv import load_dotenv\n",
    "load_dotenv()\n",
    "from unstructured.partition.pdf import partition_pdf\n",
    "import os\n",
    "from langchain_openai import ChatOpenAI\n",
    "from langchain.prompts import ChatPromptTemplate, PromptTemplate\n",
    "from langchain_core.output_parsers import StrOutputParser\n",
    "import uuid\n",
    "from langchain_astradb import AstraDBVectorStore\n",
    "from langchain.storage import InMemoryStore\n",
    "from langchain_core.documents import Document\n",
    "from langchain.embeddings import OpenAIEmbeddings\n",
    "from langchain.retrievers.multi_vector import MultiVectorRetriever\n",
    "from pydantic import BaseModel, Field\n",
    "from typing import Annotated, TypedDict, Literal\n",
    "from langchain_core.messages import BaseMessage\n",
    "from langgraph.graph import StateGraph, START, END\n",
    "from langgraph.graph.message import  AnyMessage, add_messages\n",
    "import operator\n",
    "from langgraph.prebuilt import ToolNode, tools_condition\n",
    "from langchain_community.tools.tavily_search import TavilySearchResults\n",
    "from langchain.output_parsers import PydanticOutputParser\n",
    "import warnings\n",
    "from langchain_core.runnables import RunnablePassthrough, RunnableLambda\n",
    "from langchain_core.messages import SystemMessage, HumanMessage\n",
    "from base64 import b64decode\n",
    "warnings.filterwarnings('ignore')"
   ]
  },
  {
   "cell_type": "code",
   "execution_count": 2,
   "id": "f7b469ca",
   "metadata": {},
   "outputs": [],
   "source": [
    "## Document Loading and Chunking\n",
    "\n",
    "file_path = 'content//attention.pdf'\n",
    "\n",
    "def partition_and_chunk(file_path):\n",
    "    \"\"\"Partitions and chunks a PDF file into manageable pieces. \"\"\"\n",
    "    \n",
    "    chunks = partition_pdf(\n",
    "        filename=file_path,\n",
    "        strategy='hi_res',\n",
    "        infer_table_structure=True,\n",
    "        \n",
    "        extract_image_block_types=['Image'],\n",
    "        extract_image_block_to_payload=True,\n",
    "        \n",
    "        chunking_strategy='by_title',\n",
    "        max_characters = 2000,\n",
    "        combine_text_under_n_chars = 500,\n",
    "        new_after_n_chars = 6000,\n",
    "    )\n",
    "    \n",
    "    return chunks"
   ]
  },
  {
   "cell_type": "code",
   "execution_count": 3,
   "id": "773e8534",
   "metadata": {},
   "outputs": [
    {
     "name": "stderr",
     "output_type": "stream",
     "text": [
      "The `max_size` parameter is deprecated and will be removed in v4.26. Please specify in `size['longest_edge'] instead`.\n"
     ]
    }
   ],
   "source": [
    "chunks = partition_and_chunk(file_path)"
   ]
  },
  {
   "cell_type": "code",
   "execution_count": 4,
   "id": "6d08fe60",
   "metadata": {},
   "outputs": [],
   "source": [
    "## Extract text\n",
    "texts = [chunk for chunk in chunks if 'CompositeElement' in str(type(chunk))]\n",
    "## getting base64 object of image\n",
    "images = [ el.metadata.image_base64 for chunk in chunks for el in chunk.metadata.orig_elements if 'Image' in str(type(el)) ]"
   ]
  },
  {
   "cell_type": "code",
   "execution_count": 5,
   "id": "f2da6931",
   "metadata": {},
   "outputs": [],
   "source": [
    "prompt_text = '''\n",
    "You are an assistant tasked with summarizing tables and text.\n",
    "Give a concise summary of the table or text.\n",
    "\n",
    "Respond only with the summary, no additional comment.\n",
    "Do not start your message by saying \"Here is a summary\" or anything similar.\n",
    "just give the summary as it is.\n",
    "\n",
    "Table or text chunk: {element}\n",
    "'''\n",
    "\n",
    "prompt_image = \"\"\"Describe the image in detail. Be specific about the architecture, graphs, plots such as bar plot\"\"\"\n",
    "image_message = [\n",
    "    (\n",
    "        \"user\",\n",
    "        [\n",
    "         {'type':'text', 'text':prompt_image},\n",
    "         {'type':'image_url','image_url':{'url':'data:image/jpeg;base64,{image}'},}, \n",
    "        ]\n",
    "    )\n",
    "]\n",
    "\n",
    "llm = ChatOpenAI(model = 'gpt-4o-mini')"
   ]
  },
  {
   "cell_type": "code",
   "execution_count": 6,
   "id": "fca12c0f",
   "metadata": {},
   "outputs": [],
   "source": [
    "## get summary of text and images\n",
    "def summary_for_vs(chunks, texts = texts, images = images):\n",
    "    \n",
    "    image_prompt_template = ChatPromptTemplate.from_messages(image_message)\n",
    "    image_chain = image_prompt_template | llm | StrOutputParser()\n",
    "    \n",
    "    text_prompy_template = ChatPromptTemplate.from_template(prompt_text)\n",
    "    text_chain = text_prompy_template | llm | StrOutputParser()\n",
    "    \n",
    "    text_summary = text_chain.batch(texts)\n",
    "    image_summary = image_chain.batch(images)\n",
    "    \n",
    "    return text_summary,image_summary\n",
    "    "
   ]
  },
  {
   "cell_type": "code",
   "execution_count": 7,
   "id": "1f6e6a23",
   "metadata": {},
   "outputs": [],
   "source": [
    "text_summary, image_summary = summary_for_vs(chunks)"
   ]
  },
  {
   "cell_type": "code",
   "execution_count": 8,
   "id": "4ad62141",
   "metadata": {},
   "outputs": [],
   "source": [
    "token = os.getenv('ASTRA_DB_APPLICATION_TOKEN')\n",
    "namespace = os.getenv('ASTRA_DB_KEYSPACE')\n",
    "endpoint = os.getenv('ASTRA_DB_API_ENDPOINT')\n",
    "embedding = OpenAIEmbeddings(model=\"text-embedding-3-small\")"
   ]
  },
  {
   "cell_type": "code",
   "execution_count": 9,
   "id": "3f6192c6",
   "metadata": {},
   "outputs": [],
   "source": [
    "## The vector store to index the summary chunks\n",
    "vector_store = AstraDBVectorStore(\n",
    "    embedding=embedding,\n",
    "    collection_name=\"RAG_Graph\",\n",
    "    api_endpoint=endpoint,\n",
    "    token=token,\n",
    "    namespace=namespace,\n",
    ")\n",
    "\n",
    "## The storage layer for the parent documents\n",
    "store = InMemoryStore()\n",
    "id_key = \"doc_id\"\n",
    "\n",
    "## The retriever (empty to start)\n",
    "retriever = MultiVectorRetriever(\n",
    "    vectorstore=vector_store,  ## The vector store to index the summary chunks\n",
    "    docstore=store,            ## The storage layer for the parent documents\n",
    "    id_key=id_key,\n",
    ")\n"
   ]
  },
  {
   "cell_type": "code",
   "execution_count": 11,
   "id": "e825d487",
   "metadata": {},
   "outputs": [],
   "source": [
    "## adding image summries\n",
    "def loading_summaries_to_vector_store(retriever, chunks, chunk_summary):\n",
    "    \"\"\"\n",
    "        Generate ids for each chunk, create langchain document object for each summry chunk.\n",
    "        Indexing the summary in vector store and document in docsotre.\n",
    "    \"\"\"\n",
    "    ## generate unique id for each chunk\n",
    "    doc_ids = [str(uuid.uuid4()) for _ in chunks]\n",
    "    ## Creating Langchain Document objects for each text_summary chunk\n",
    "    summary_texts = [Document(page_content=summary,metadata={id_key:doc_ids[i]}) for i,summary in enumerate(chunk_summary)]\n",
    "    \n",
    "    ## indexing the documents in vector store and document store\n",
    "    retriever.vectorstore.add_documents(summary_texts)\n",
    "    retriever.docstore.mset(list(zip(doc_ids,chunks)))"
   ]
  },
  {
   "cell_type": "code",
   "execution_count": 12,
   "id": "5981ab07",
   "metadata": {},
   "outputs": [],
   "source": [
    "## adding text summaries to vector store and document store\n",
    "loading_summaries_to_vector_store(retriever,texts,text_summary)\n",
    "## adding image summaries to vector store and document store\n",
    "loading_summaries_to_vector_store(retriever,images,image_summary)\n",
    "## Now the retriever is ready to use"
   ]
  },
  {
   "cell_type": "markdown",
   "id": "e95796a9",
   "metadata": {},
   "source": [
    "## Agent"
   ]
  },
  {
   "cell_type": "code",
   "execution_count": 14,
   "id": "79e26618",
   "metadata": {},
   "outputs": [],
   "source": [
    "## Creating Pydantic class\n",
    "\n",
    "class RouterCall_Output(BaseModel):\n",
    "    Topic: Literal['Related','Not Related'] = Field(description=\"Classification of the user query\")\n",
    "    Reasoning: str = Field(description='Reasoning behind topic selection')\n",
    "    \n",
    "parser = PydanticOutputParser(pydantic_object=RouterCall_Output)"
   ]
  },
  {
   "cell_type": "code",
   "execution_count": 139,
   "id": "272e0ed3",
   "metadata": {},
   "outputs": [],
   "source": [
    "## State class\n",
    "class State(TypedDict):\n",
    "    messages : Annotated[list[AnyMessage], operator.add]"
   ]
  },
  {
   "cell_type": "code",
   "execution_count": 140,
   "id": "403ed5f2",
   "metadata": {},
   "outputs": [],
   "source": [
    "## Supervisor Function\n",
    "def supervisor(state:State):\n",
    "    \n",
    "    question = state['messages'][-1]\n",
    "    print(question)\n",
    "    \n",
    "    template = '''\n",
    "    You are an expert in routing. Your task is to classify if the given user query is related to LLM Transformer architecture.\n",
    "    You must classify as either \"Related\" or \"Not Related\".\n",
    "    Provide a brief reasoning for your classification.\n",
    "    \n",
    "    user query : {question}\n",
    "    {format_instructions}\n",
    "    '''\n",
    "    \n",
    "    prompt = PromptTemplate(\n",
    "        template=template,\n",
    "        input_variables=['question'],\n",
    "        partial_variables={'format_instructions':parser.get_format_instructions()}\n",
    "    )\n",
    "    \n",
    "    chain = prompt | llm | parser\n",
    "    response = chain.invoke({'question':question})\n",
    "    print(\"Parsed response:\", response)\n",
    "    \n",
    "    return {'messages':[response.Topic]}"
   ]
  },
  {
   "cell_type": "code",
   "execution_count": 141,
   "id": "049b1ed7",
   "metadata": {},
   "outputs": [],
   "source": [
    "## Router function\n",
    "def router(state: State):\n",
    "    print('-->Router-->')\n",
    "    \n",
    "    last_message = state['messages'][-1]\n",
    "    print(\"last_message: \",last_message)\n",
    "    \n",
    "    if  last_message == 'Related':\n",
    "        return 'RAG Call'\n",
    "    else:\n",
    "        return 'LLM Call'"
   ]
  },
  {
   "cell_type": "code",
   "execution_count": 142,
   "id": "130829ca",
   "metadata": {},
   "outputs": [],
   "source": [
    "## RAG Function\n",
    "def rag_function(state:State):\n",
    "    print('-->RAG-->')\n",
    "    \n",
    "    question = state['messages'][0]\n",
    "    \n",
    "    def parse_doc(docs):\n",
    "        '''Parses the retrieved documents to return a dictionary with text and images'''\n",
    "        image_docs = []\n",
    "        text_docs = []\n",
    "        for doc in docs:\n",
    "            try:\n",
    "                b64decode(doc)\n",
    "                image_docs.append(doc)\n",
    "            except Exception as e:\n",
    "                text_docs.append(doc)\n",
    "        return {'images': image_docs,'texts':text_docs}\n",
    "    \n",
    "    def built_prompt(kwargs):\n",
    "        '''Builds the prompt for the model using the context and question.'''\n",
    "        \n",
    "\n",
    "        docs_by_type = kwargs['context']\n",
    "        user_question = kwargs['question']\n",
    "        \n",
    "        ## concatenate all the text\n",
    "        context_text = ''\n",
    "        if len(docs_by_type['texts'])>0:\n",
    "            for el in docs_by_type['texts']:\n",
    "                context_text += el.text\n",
    "        \n",
    "        prompt_template = f'''\n",
    "        Answer the question based on following cotext, which can include text and images.\n",
    "        Context : {context_text}\n",
    "        Question : {user_question}'''\n",
    "        \n",
    "        prompt_content = [{'type':'text', 'text':prompt_template}]\n",
    "        \n",
    "        if len(docs_by_type['images'])>0:\n",
    "            for img in docs_by_type['images']:\n",
    "                prompt_content.append(\n",
    "                    {'type':'image_url','image_url':{'url':f'data:image/jpeg;base64,{img}'}},\n",
    "                )\n",
    "\n",
    "        ## return prompt\n",
    "        return ChatPromptTemplate.from_messages([HumanMessage(content=prompt_content)])\n",
    "\n",
    "    \n",
    "    chain = (\n",
    "        {'context': retriever | RunnableLambda(parse_doc), 'question':RunnablePassthrough()}\n",
    "        |RunnableLambda(built_prompt)\n",
    "        |llm\n",
    "        |StrOutputParser()\n",
    "        \n",
    "    )\n",
    "    result = chain.invoke(question)\n",
    "    return {'messages':[result]}"
   ]
  },
  {
   "cell_type": "code",
   "execution_count": 176,
   "id": "ef63339f",
   "metadata": {},
   "outputs": [],
   "source": [
    "tavily_tool = TavilySearchResults(max_results=3)\n",
    "## Binding tavily tool with llm\n",
    "llm_with_tool = llm.bind_tools([tavily_tool])\n",
    "## ToolNode runs the tools which are called in last AIMessage\n",
    "## If there are multiple tools called, it will run in parallel\n",
    "tool_call = ToolNode([tavily_tool])\n",
    "\n",
    "def llm_function(state:State):\n",
    "    print('-->LLM Call-->')\n",
    "    question = state['messages']\n",
    "    \n",
    "    print(question)\n",
    "\n",
    "    complete_query = f'''\n",
    "    You are an helpful assistant. Answer the question with with best of your knowledge. Following is the user question: {question}\n",
    "    '''\n",
    "    \n",
    "    response = llm_with_tool.invoke(complete_query)\n",
    "\n",
    "    return {'messages':[response]}"
   ]
  },
  {
   "cell_type": "code",
   "execution_count": 177,
   "id": "c7d63e8f",
   "metadata": {},
   "outputs": [
    {
     "data": {
      "image/png": "[encoded data removed]",
      "text/plain": [
       "<langgraph.graph.state.CompiledStateGraph object at 0x000001C81611E510>"
      ]
     },
     "execution_count": 177,
     "metadata": {},
     "output_type": "execute_result"
    }
   ],
   "source": [
    "## Create Graph\n",
    "build = StateGraph(State)\n",
    "build.add_node('Supervisor',supervisor)\n",
    "build.add_node('LLM',llm_function)\n",
    "build.add_node('tools',tool_call)\n",
    "build.add_node('RAG', rag_function)\n",
    "\n",
    "build.add_edge(START, 'Supervisor')\n",
    "build.add_conditional_edges(\n",
    "    \"Supervisor\",\n",
    "    router,\n",
    "    {\n",
    "        'RAG Call':'RAG',\n",
    "        'LLM Call':'LLM'\n",
    "    }\n",
    ")\n",
    "build.add_conditional_edges(\n",
    "    'LLM',\n",
    "    tools_condition\n",
    ")\n",
    "build.add_edge('tools','LLM')\n",
    "build.add_edge('RAG',END)\n",
    "#build.add_edge('LLM',END)\n",
    "app = build.compile()\n",
    "app"
   ]
  },
  {
   "cell_type": "code",
   "execution_count": 206,
   "id": "bcb8c34e",
   "metadata": {},
   "outputs": [
    {
     "name": "stdout",
     "output_type": "stream",
     "text": [
      "Air India crash\n",
      "Parsed response: Topic='Not Related' Reasoning=\"The query 'Air India crash' pertains to an aviation incident and does not involve the LLM Transformer architecture, which is related to machine learning and natural language processing.\"\n",
      "-->Router-->\n",
      "last_message:  Not Related\n",
      "-->LLM Call-->\n",
      "['Air India crash', 'Not Related']\n",
      "-->LLM Call-->\n",
      "['Air India crash', 'Not Related', AIMessage(content='', additional_kwargs={'tool_calls': [{'id': 'call_tbVD4P0cNnd3vgRfsWl0RjIG', 'function': {'arguments': '{\"query\":\"Air India crash\"}', 'name': 'tavily_search_results_json'}, 'type': 'function'}], 'refusal': None}, response_metadata={'token_usage': {'completion_tokens': 20, 'prompt_tokens': 113, 'total_tokens': 133, 'completion_tokens_details': {'accepted_prediction_tokens': 0, 'audio_tokens': 0, 'reasoning_tokens': 0, 'rejected_prediction_tokens': 0}, 'prompt_tokens_details': {'audio_tokens': 0, 'cached_tokens': 0}}, 'model_name': 'gpt-4o-mini-2024-07-18', 'system_fingerprint': 'fp_34a54ae93c', 'id': 'chatcmpl-Bi81MlhmKMmILIeEffy04RVQ4fTWo', 'service_tier': 'default', 'finish_reason': 'tool_calls', 'logprobs': None}, id='run--04b3c6a4-f02e-476b-a2e2-9253891e92bc-0', tool_calls=[{'name': 'tavily_search_results_json', 'args': {'query': 'Air India crash'}, 'id': 'call_tbVD4P0cNnd3vgRfsWl0RjIG', 'type': 'tool_call'}], usage_metadata={'input_tokens': 113, 'output_tokens': 20, 'total_tokens': 133, 'input_token_details': {'audio': 0, 'cache_read': 0}, 'output_token_details': {'audio': 0, 'reasoning': 0}}), ToolMessage(content='[{\"title\": \"Air India AI 171 passenger flight crashes in Ahmedabad | AP News\", \"url\": \"https://apnews.com/article/india-plane-crash-cad8dad5cd0e92795b03d357404af5f8\", \"content\": \"AHMEDABAD, India (AP) — An Air India plane bound for London [crashed in a residential area](https://apnews.com/live/air-india-plane-crash-ai171-ahmedabad-london) of Ahmedabad shortly after takeoff Thursday, killing 241 people on board, the airline said. One passenger who was thrown from the plane survived.\\\\n\\\\nAt least five medical students in a college hostel were killed when the plane hit the building and burst into flames, according to a medical association officer. [...] [](https://apnews.com/live/air-india-plane-crash-ai171-ahmedabad-london)[Air India crash: Plane headed to London crashes with 241 dead An Air India passenger plane bound for London and carrying more than 240 people crashed into a medical college after takeoff Thursday in Ahmedabad, India, officials said.AP News](https://apnews.com/live/air-india-plane-crash-ai171-ahmedabad-london)\\\\n\\\\nUndo\\\\n\\\\nAd Content [...] [](https://apnews.com/live/air-india-plane-crash-ai171-ahmedabad-london)[Air India crash: Plane headed to London crashes with 241 dead An Air India passenger plane bound for London and carrying more than 240 people crashed into a medical college after takeoff Thursday in Ahmedabad, India, officials said.AP News](https://apnews.com/live/air-india-plane-crash-ai171-ahmedabad-london)\\\\n\\\\nUndo\", \"score\": 0.8963332}, {\"title\": \"Authorities investigate Air India crash in which 1 passenger ...\", \"url\": \"https://www.npr.org/2025/06/13/g-s1-72594/air-india-crash-investigation\", \"content\": \"MUMBAI, India — India\\'s Aircraft Accident Investigation Bureau has begun investigating Thursday\\'s deadly Air India crash, one of the country\\'s worst aviation accidents in decades, with assistance from the U.S. [National Transportation Safety Board](https://x.com/NTSB_Newsroom/status/1933147382331445483) and British investigators. Authorities said the plane\\'s flight data recorder, or black box, was recovered from a rooftop at the crash site. \\\\\"This marks an important step forward in the\", \"score\": 0.8665964}]', name='tavily_search_results_json', tool_call_id='call_tbVD4P0cNnd3vgRfsWl0RjIG', artifact={'query': 'Air India crash', 'follow_up_questions': None, 'answer': None, 'images': [], 'results': [{'url': 'https://apnews.com/article/india-plane-crash-cad8dad5cd0e92795b03d357404af5f8', 'title': 'Air India AI 171 passenger flight crashes in Ahmedabad | AP News', 'content': 'AHMEDABAD, India (AP) — An Air India plane bound for London [crashed in a residential area](https://apnews.com/live/air-india-plane-crash-ai171-ahmedabad-london) of Ahmedabad shortly after takeoff Thursday, killing 241 people on board, the airline said. One passenger who was thrown from the plane survived.\\n\\nAt least five medical students in a college hostel were killed when the plane hit the building and burst into flames, according to a medical association officer. [...] [](https://apnews.com/live/air-india-plane-crash-ai171-ahmedabad-london)[Air India crash: Plane headed to London crashes with 241 dead An Air India passenger plane bound for London and carrying more than 240 people crashed into a medical college after takeoff Thursday in Ahmedabad, India, officials said.AP News](https://apnews.com/live/air-india-plane-crash-ai171-ahmedabad-london)\\n\\nUndo\\n\\nAd Content [...] [](https://apnews.com/live/air-india-plane-crash-ai171-ahmedabad-london)[Air India crash: Plane headed to London crashes with 241 dead An Air India passenger plane bound for London and carrying more than 240 people crashed into a medical college after takeoff Thursday in Ahmedabad, India, officials said.AP News](https://apnews.com/live/air-india-plane-crash-ai171-ahmedabad-london)\\n\\nUndo', 'score': 0.8963332, 'raw_content': None}, {'url': 'https://www.npr.org/2025/06/13/g-s1-72594/air-india-crash-investigation', 'title': 'Authorities investigate Air India crash in which 1 passenger ...', 'content': 'MUMBAI, India — India\\'s Aircraft Accident Investigation Bureau has begun investigating Thursday\\'s deadly Air India crash, one of the country\\'s worst aviation accidents in decades, with assistance from the U.S. [National Transportation Safety Board](https://x.com/NTSB_Newsroom/status/1933147382331445483) and British investigators. Authorities said the plane\\'s flight data recorder, or black box, was recovered from a rooftop at the crash site. \"This marks an important step forward in the', 'score': 0.8665964, 'raw_content': None}], 'response_time': 2.72})]\n",
      "The recent crash of an Air India flight involved AI 171, which tragically occurred shortly after takeoff in Ahmedabad, India. The plane, destined for London, crashed in a residential area, resulting in the deaths of 241 individuals on board. Notably, one passenger survived after being thrown from the aircraft. The incident also caused fatalities among five medical students who were in a hostel that was struck by the plane.\n",
      "\n",
      "Authorities are currently conducting an investigation into the crash, which is one of the deadliest aviation accidents in recent Indian history. The Indian Aircraft Accident Investigation Bureau is collaborating with the U.S. National Transportation Safety Board and British investigators. They have recovered the flight data recorder from the crash site, which is hoped to provide critical insights into the cause of the accident.\n",
      "\n",
      "For more detailed coverage, you can read the following articles:\n",
      "- [Air India AI 171 passenger flight crashes in Ahmedabad | AP News](https://apnews.com/article/india-plane-crash-cad8dad5cd0e92795b03d357404af5f8)\n",
      "- [Authorities investigate Air India crash in which 1 passenger survived | NPR](https://www.npr.org/2025/06/13/g-s1-72594/air-india-crash-investigation)\n"
     ]
    }
   ],
   "source": [
    "msg = app.invoke({'messages':['Air India crash']})\n",
    "if 'Related' in msg['messages']:\n",
    "    print(msg['messages'][-1])\n",
    "else:\n",
    "    print(msg['messages'][-1].content)"
   ]
  }
 ],
 "metadata": {
  "kernelspec": {
   "display_name": "Python 3",
   "language": "python",
   "name": "python3"
  },
  "language_info": {
   "codemirror_mode": {
    "name": "ipython",
    "version": 3
   },
   "file_extension": ".py",
   "mimetype": "text/x-python",
   "name": "python",
   "nbconvert_exporter": "python",
   "pygments_lexer": "ipython3",
   "version": "3.12.0"
  }
 },
 "nbformat": 4,
 "nbformat_minor": 5
}
