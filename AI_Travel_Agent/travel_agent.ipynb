{
 "cells": [
  {
   "cell_type": "markdown",
   "id": "8e87df87",
   "metadata": {},
   "source": [
    "## Travel Agent\n",
    "\n",
    "AI Travel Agent & Expense Planner(Purpose: Trip planning for any city worldwide with Realtime data.\")\n",
    "\n",
    "• Real-time weather information\n",
    "• Top attractions and activities\n",
    "• Hotel cost calculation (per day × total days)\n",
    "• Currency conversion to user's native currency\n",
    "• Complete itinerary generation\n",
    "• Total expense calculation\n",
    "• generate a summary of the entire output\n",
    "\n",
    "user_input\n",
    "\n",
    "search attraction and activity\n",
    "1. search attracation\n",
    "2. search restaurant\n",
    "3. search activity\n",
    "4. search transportation\n",
    "\n",
    "\n",
    "search weather forcasting\n",
    "1. get current weather\n",
    "2. get weather forcast\n",
    "\n",
    "\n",
    "search hotel costs\n",
    "1. search hotel\n",
    "2. estimate the hotel cost\n",
    "3. budget_range\n",
    "\n",
    "\n",
    "calculate total cost\n",
    "1. add\n",
    "2. multiply\n",
    "3. calculated total cost\n",
    "4. calcualte the daily budget\n",
    "  \n",
    "\n",
    "currency_converion\n",
    "1. get exchnage rate\n",
    "2. convert currancy\n",
    "  \n",
    "\n",
    "Itinery generation\n",
    "1. get day plan\n",
    "2. crete full itinery\n",
    "\n",
    "\n",
    "create Trip Summary\n",
    "  \n",
    "\n",
    "Retun complete traval plan\n"
   ]
  },
  {
   "cell_type": "code",
   "execution_count": 53,
   "id": "56844fd8",
   "metadata": {},
   "outputs": [],
   "source": [
    "import os\n",
    "from dotenv import load_dotenv\n",
    "load_dotenv()\n",
    "import operator\n",
    "from typing import Annotated, Sequence, List\n",
    "from pydantic import BaseModel, Field\n",
    "from langchain_core.output_parsers import StrOutputParser, PydanticOutputParser\n",
    "from langchain_core.prompts import ChatPromptTemplate, PromptTemplate\n",
    "from langchain_core.messages import HumanMessage, SystemMessage, BaseMessage\n",
    "from langchain_openai import ChatOpenAI\n",
    "from langgraph.graph import START, END, MessagesState, StateGraph\n",
    "from langgraph.prebuilt import ToolNode, tools_condition\n",
    "from langchain.tools import tool\n",
    "import requests"
   ]
  },
  {
   "cell_type": "code",
   "execution_count": 2,
   "id": "59854a4e",
   "metadata": {},
   "outputs": [],
   "source": [
    "## openai chat model\n",
    "llm_openai = ChatOpenAI(model='o3-mini')"
   ]
  },
  {
   "cell_type": "code",
   "execution_count": 3,
   "id": "673406e6",
   "metadata": {},
   "outputs": [
    {
     "data": {
      "text/plain": [
       "AIMessage(content='Hi there! How can I help you today?', additional_kwargs={'refusal': None}, response_metadata={'token_usage': {'completion_tokens': 87, 'prompt_tokens': 7, 'total_tokens': 94, 'completion_tokens_details': {'accepted_prediction_tokens': 0, 'audio_tokens': 0, 'reasoning_tokens': 64, 'rejected_prediction_tokens': 0}, 'prompt_tokens_details': {'audio_tokens': 0, 'cached_tokens': 0}}, 'model_name': 'o3-mini-2025-01-31', 'system_fingerprint': 'fp_e20469f047', 'id': 'chatcmpl-BjLG3Df3B0a0JmeZKdyWbjLkPVgSP', 'service_tier': 'default', 'finish_reason': 'stop', 'logprobs': None}, id='run--802a0815-0ac5-40e3-92e7-ce69c6acefc9-0', usage_metadata={'input_tokens': 7, 'output_tokens': 87, 'total_tokens': 94, 'input_token_details': {'audio': 0, 'cache_read': 0}, 'output_token_details': {'audio': 0, 'reasoning': 64}})"
      ]
     },
     "execution_count": 3,
     "metadata": {},
     "output_type": "execute_result"
    }
   ],
   "source": [
    "llm_openai.invoke('Hi')"
   ]
  },
  {
   "cell_type": "code",
   "execution_count": 68,
   "id": "13cba663",
   "metadata": {},
   "outputs": [],
   "source": [
    "from langchain_community.tools import DuckDuckGoSearchResults, DuckDuckGoSearchRun\n",
    "from langchain_community.utilities import OpenWeatherMapAPIWrapper"
   ]
  },
  {
   "cell_type": "code",
   "execution_count": 24,
   "id": "3bf78bd7",
   "metadata": {},
   "outputs": [],
   "source": [
    "import time\n",
    "def get_search_results(user_query: str) -> str:\n",
    "    '''\n",
    "    This tool will use DuckDuckGo to search for \n",
    "    tourist attractions, restaurants, activities, and transportation based on user query.\n",
    "    \n",
    "    Args:\n",
    "        user_query (str): The user's query for searching tourist attractions, restaurants, activities, and transportation.\n",
    "        \n",
    "    Returns:\n",
    "        str: A string containing the search results formatted as a list of tourist attractions, restaurants, activities, and transportation options.\n",
    "    '''\n",
    "    search = DuckDuckGoSearchRun()\n",
    "    \n",
    "    queries = {\n",
    "        \"Attractions\": 'Top 3 tourist attraction in {user_query}',\n",
    "        \"Restaurants\": 'Top 3 restaurants in {user_query}',\n",
    "        \"Activities\": 'Top 3 activities in {user_query}',\n",
    "        \"Transport\" : 'Means of transport in {user_query}'\n",
    "    }\n",
    "    results = {}\n",
    "    \n",
    "    for key, query in queries.items():\n",
    "        try:\n",
    "            results[key] = search.invoke(query)\n",
    "            time.sleep(5)\n",
    "        except Exception as e:\n",
    "            print(f'Error {str(e)}')\n",
    "        \n",
    "    return results\n"
   ]
  },
  {
   "cell_type": "code",
   "execution_count": 28,
   "id": "4842bc8e",
   "metadata": {},
   "outputs": [
    {
     "data": {
      "text/plain": [
       "{'Attractions': 'Around 3.8 million people visit every year, making it Austria\\'s top tourist spot. Walk through grand rooms once used by emperors. The palace oozes royal history—golden halls, manicured gardens, and classic art everywhere you look. The park around the palace is massive. There\\'s even a zoo and some gorgeous fountains. Visitors have decided These are the 9 best museums in Germany New top ranking The 10 best ice cream parlors in Germany According to \"Time Out\" Hong Kong Is the City with the Best Public Transporta in the World 3rd place: Angkor Wat, Cambodia. The Angkor Wat temple complex in Siem Reap, Cambodia, ranks third in Tripadvisor\\'s rankings of the world\\'s most popular attractions. Global tourism weaves together history, culture, and modern entertainment in ways that captivate millions each year. In this guide, we reveal 21 of the most visited tourist attractions in the world, spanning massive malls, ancient wonders, bustling city squares, and legendary theme parks.Whether drawn by heritage, architectural splendor, or urban excitement, travelers flock to these tourist ... For example, Alcatraz doesn\\'t even make the top 50. The Eiffel Tower only sees about 7 million visitors each year, meaning it doesn\\'t land in the top 20. The Great Wall and the Louvre see a mere 9 million visitors per year, less than a quarter of the crowds the top attraction in the world pulls in. And there\\'s a lot of theme parks. Other Top Visited Tourist Attractions in the World. While the Great Wall tops the list, here are a few honorable mentions that draw millions every year: Eiffel Tower (France) - A romantic symbol of Paris, visited by over 7 million annually. Times Square (New York, USA) - Over 50 million visitors per year.',\n",
       " 'Restaurants': \"Canada's Best 100 looked to 160 judges—spanning from food critics to chefs and restaurateurs—to evaluate what are the top 100 restaurants across Canada this year, based on service, decor and ... Canada's 100 Best Restaurants list for 2024 was just revealed and 10 new and delicious restaurants made it on the list. These are the top restaurants and bars in the country for 2025, according to Canada's 100 Best. Travelling to Toronto? Looking for some restaurant recommendations? Here are three restaurants that routinely ranks in the top 10 restaurants in Toronto. The Top 100 Restaurants for Outdoor Dining in 2025 is out from online restaurant reservation service OpenTable. The list is compiled by analyzing more than one million diner reviews and metrics ...\",\n",
       " 'Activities': 'Best Practices for Auditing SQL Server User Activity. Define Audit Objectives: Identify critical events (e.g., schema changes, failed logins) that require monitoring. Minimize Performance Impact: Use lightweight methods such as Extended Events instead of resource-intensive profiling. Secure Audit Logs: Restrict access to audit logs to prevent ... b) Filter by User: Code: SELECT * FROM pg_stat_activity WHERE usename = \\'your_user_name\\'; Explanation: 1. Backend States: The state column provides the status of each connection: active: The connection is running a query. idle: The connection is waiting for the next query. idle in transaction: The connection is in a transaction but waiting for ... From the information you have shared with us this query requires extensive knowledge of Graph API, power automate and Teams APIs. We have another dedicated community where you will be able to find Experts with resources required for this particular query Microsoft Graph - Microsoft Q&A community, as our team here primarily handles queries related to Microsoft Teams standard functionalities. Query a specific date range. To query a specific date range from a BigQuery user-data export dataset, use the _TABLE_SUFFIX pseudo column in the WHERE clause of your query. For example, the following query counts the number of unique users updated between August 1, 2023 and August 15, 2023 with a lifetime engagement of at least five minutes. Get recent activities for a given user. This OData function has some default behaviors included to make it operate like a \"most recently used\" API. The service queries for the most recent activityHistoryItems, and then pull those related activities. Activities are sorted according to the most recent lastModified on the activityHistoryItem.',\n",
       " 'Transport': 'Global Area - In the automatically generated transport request look for objects such as. R3TR AQQU user group+query; R3TR AQSG Infoset ; Standard Area - with report RSAQR3TR. LIMU TABU AQTDB contain the information; Look at the logs provided by the report when using it to generate TR and then, after release/import of TR, to generate the query ... The Import Process. Importing TRs into the target system. After the request owner releases the Transport Requests from Source system, changes should appear in quality and production system; however, this is not an automatic process. As soon as the export process completes (releasing of TRs), relevant files (Cofiles and Data files) are created in the common transport directory at OS level and ... Create a Transport Request: Add the ABAP program to a transport request. Transport and Execute the Program: Transport the request to the target system and execute the program. Important Considerations and Cautions: Consistency: Transporting table contents directly can lead to data inconsistencies if related data in other tables is not ... Finding CBC Transport Requests. To locate and manage these transport requests, follow these steps: Access the Export Customizing Transports App: This app provides a centralized interface for managing transport requests. Filter by Request Type: Use the \"Type\" option to specifically filter for requests labeled as \"SAP Central Business ... You can add projects, migration objects, and rules to a transport request. Note that only the definition of a rule is added to a transport request. No values, for example mapping values, are included. If you add a project to a transport request, then all migration objects and rules in the project will also be added to the transport request.'}"
      ]
     },
     "execution_count": 28,
     "metadata": {},
     "output_type": "execute_result"
    }
   ],
   "source": [
    "get_search_results('Paris, France')"
   ]
  },
  {
   "cell_type": "code",
   "execution_count": 92,
   "id": "7c10b8ad",
   "metadata": {},
   "outputs": [],
   "source": [
    "import time\n",
    "@tool \n",
    "def search_result(query:str) -> str:\n",
    "    '''\n",
    "    Search results using DuckDuckGoSearch\n",
    "    \n",
    "    Args:\n",
    "        query (str): The user's query for searching tourist attractions, restaurants, activities, and transportation.\n",
    "        \n",
    "    Returns:\n",
    "        str: A string containing the search results formatted as a list of tourist attractions, restaurants, activities, and transportation options.\n",
    "    '''\n",
    "    \n",
    "    search = DuckDuckGoSearchRun()\n",
    "    result = search.invoke(query)\n",
    "    return(f'ToolCall : {result}')\n",
    "    time.sleep(5)\n",
    "    \n",
    "    return result"
   ]
  },
  {
   "cell_type": "code",
   "execution_count": 98,
   "id": "89c4949f",
   "metadata": {},
   "outputs": [],
   "source": [
    "from langchain_community.tools.tavily_search import TavilySearchResults\n",
    "#search = DuckDuckGoSearchRun()\n",
    "weather = OpenWeatherMapAPIWrapper()\n",
    "tavily_tool = TavilySearchResults(max_results=3)\n",
    "llm_openai = ChatOpenAI(model='o3-mini')\n",
    "llm_with_tool = llm_openai.bind_tools([tavily_tool, weather.run])"
   ]
  },
  {
   "cell_type": "code",
   "execution_count": null,
   "id": "bcb91091",
   "metadata": {},
   "outputs": [],
   "source": [
    "SYSTEM_PROMPT = SystemMessage(\n",
    "    content = '''You are a helpful travel agent and your task is to find following information in a city based on user queries:\n",
    "        Use TavilyTool Search to find:\n",
    "        1. top 2 tourist attractions\n",
    "        2. top 2 restaurants\n",
    "        3. top 2 activities \n",
    "        4. means of transportation for the city mentioned in user query\n",
    "        \n",
    "        Use OpenWeatherMap to find (if travel date is provided use that else user current date):\n",
    "        5. current weather and weather forcast for the city mentioned in user query.\n",
    "        '''\n",
    ")\n",
    "\n",
    "def function_tool(state:MessagesState):\n",
    "    \n",
    "    user_question = state['messages']\n",
    "    \n",
    "    input_question = [SYSTEM_PROMPT] + user_question\n",
    "    \n",
    "    response = llm_with_tool.invoke(input_question)\n",
    "    print(response)\n",
    "    \n",
    "    return {'messages': [response]}"
   ]
  },
  {
   "cell_type": "code",
   "execution_count": 103,
   "id": "3dd8dcfe",
   "metadata": {},
   "outputs": [
    {
     "data": {
      "image/png": "[encoded data removed]",
      "text/plain": [
       "<langgraph.graph.state.CompiledStateGraph object at 0x000001CB82DB6960>"
      ]
     },
     "execution_count": 103,
     "metadata": {},
     "output_type": "execute_result"
    }
   ],
   "source": [
    "import sys\n",
    "builder = StateGraph(MessagesState)\n",
    "builder.add_node('LLM_Decision_Step',function_tool)\n",
    "builder.add_node('tools', ToolNode([tavily_tool, weather.run]))\n",
    "builder.add_edge(START,'LLM_Decision_Step')\n",
    "builder.add_conditional_edges(\n",
    "    'LLM_Decision_Step',\n",
    "    tools_condition\n",
    ")\n",
    "builder.add_edge('tools','LLM_Decision_Step')\n",
    "app = builder.compile()\n",
    "app"
   ]
  },
  {
   "cell_type": "code",
   "execution_count": 104,
   "id": "cf748978",
   "metadata": {},
   "outputs": [
    {
     "name": "stdout",
     "output_type": "stream",
     "text": [
      "content='' additional_kwargs={'tool_calls': [{'id': 'call_DvGHGRpSAgfSxf6ToTxCizVF', 'function': {'arguments': '{\"query\": \"Kelowna, Canada top 2 tourist attractions\"}', 'name': 'tavily_search_results_json'}, 'type': 'function'}], 'refusal': None} response_metadata={'token_usage': {'completion_tokens': 810, 'prompt_tokens': 235, 'total_tokens': 1045, 'completion_tokens_details': {'accepted_prediction_tokens': 0, 'audio_tokens': 0, 'reasoning_tokens': 768, 'rejected_prediction_tokens': 0}, 'prompt_tokens_details': {'audio_tokens': 0, 'cached_tokens': 0}}, 'model_name': 'o3-mini-2025-01-31', 'system_fingerprint': 'fp_e20469f047', 'id': 'chatcmpl-BjM9h5DPCeU0UbDIaAo1zw5fqwVPb', 'service_tier': 'default', 'finish_reason': 'tool_calls', 'logprobs': None} id='run--5eda6755-6e1c-453b-a8fd-a852ed4a9bda-0' tool_calls=[{'name': 'tavily_search_results_json', 'args': {'query': 'Kelowna, Canada top 2 tourist attractions'}, 'id': 'call_DvGHGRpSAgfSxf6ToTxCizVF', 'type': 'tool_call'}] usage_metadata={'input_tokens': 235, 'output_tokens': 810, 'total_tokens': 1045, 'input_token_details': {'audio': 0, 'cache_read': 0}, 'output_token_details': {'audio': 0, 'reasoning': 768}}\n",
      "content='' additional_kwargs={'tool_calls': [{'id': 'call_Eg7gZdRyLzYHhcOv6FJdWfTw', 'function': {'arguments': '{\"query\": \"Kelowna, Canada top 2 restaurants\"}', 'name': 'tavily_search_results_json'}, 'type': 'function'}], 'refusal': None} response_metadata={'token_usage': {'completion_tokens': 169, 'prompt_tokens': 937, 'total_tokens': 1106, 'completion_tokens_details': {'accepted_prediction_tokens': 0, 'audio_tokens': 0, 'reasoning_tokens': 128, 'rejected_prediction_tokens': 0}, 'prompt_tokens_details': {'audio_tokens': 0, 'cached_tokens': 0}}, 'model_name': 'o3-mini-2025-01-31', 'system_fingerprint': 'fp_e20469f047', 'id': 'chatcmpl-BjM9tUD0Swd8sWBwZtnckAx9k74oh', 'service_tier': 'default', 'finish_reason': 'tool_calls', 'logprobs': None} id='run--eaafd394-9ffe-4e75-b168-c7189e0a2d6a-0' tool_calls=[{'name': 'tavily_search_results_json', 'args': {'query': 'Kelowna, Canada top 2 restaurants'}, 'id': 'call_Eg7gZdRyLzYHhcOv6FJdWfTw', 'type': 'tool_call'}] usage_metadata={'input_tokens': 937, 'output_tokens': 169, 'total_tokens': 1106, 'input_token_details': {'audio': 0, 'cache_read': 0}, 'output_token_details': {'audio': 0, 'reasoning': 128}}\n",
      "content='' additional_kwargs={'tool_calls': [{'id': 'call_EcHrTUq9gMyTMjoZxz8Ocgps', 'function': {'arguments': '{\"query\": \"Kelowna, Canada top 2 activities\"}', 'name': 'tavily_search_results_json'}, 'type': 'function'}], 'refusal': None} response_metadata={'token_usage': {'completion_tokens': 41, 'prompt_tokens': 1750, 'total_tokens': 1791, 'completion_tokens_details': {'accepted_prediction_tokens': 0, 'audio_tokens': 0, 'reasoning_tokens': 0, 'rejected_prediction_tokens': 0}, 'prompt_tokens_details': {'audio_tokens': 0, 'cached_tokens': 0}}, 'model_name': 'o3-mini-2025-01-31', 'system_fingerprint': 'fp_e20469f047', 'id': 'chatcmpl-BjM9yCDeUb9u8ZuAEP3oHevRBzW4Z', 'service_tier': 'default', 'finish_reason': 'tool_calls', 'logprobs': None} id='run--6171dede-d899-4576-9e49-8496f9569b0d-0' tool_calls=[{'name': 'tavily_search_results_json', 'args': {'query': 'Kelowna, Canada top 2 activities'}, 'id': 'call_EcHrTUq9gMyTMjoZxz8Ocgps', 'type': 'tool_call'}] usage_metadata={'input_tokens': 1750, 'output_tokens': 41, 'total_tokens': 1791, 'input_token_details': {'audio': 0, 'cache_read': 0}, 'output_token_details': {'audio': 0, 'reasoning': 0}}\n",
      "content='' additional_kwargs={'tool_calls': [{'id': 'call_8pZM7Jf2PXPrmC5SKaMfDskQ', 'function': {'arguments': '{\"query\": \"Kelowna, Canada means of transportation\"}', 'name': 'tavily_search_results_json'}, 'type': 'function'}], 'refusal': None} response_metadata={'token_usage': {'completion_tokens': 104, 'prompt_tokens': 2319, 'total_tokens': 2423, 'completion_tokens_details': {'accepted_prediction_tokens': 0, 'audio_tokens': 0, 'reasoning_tokens': 64, 'rejected_prediction_tokens': 0}, 'prompt_tokens_details': {'audio_tokens': 0, 'cached_tokens': 1664}}, 'model_name': 'o3-mini-2025-01-31', 'system_fingerprint': 'fp_e20469f047', 'id': 'chatcmpl-BjMA3yuyufvg08FYGmndGXT5l405f', 'service_tier': 'default', 'finish_reason': 'tool_calls', 'logprobs': None} id='run--f56ffab1-07b9-413a-8178-ae93779b5427-0' tool_calls=[{'name': 'tavily_search_results_json', 'args': {'query': 'Kelowna, Canada means of transportation'}, 'id': 'call_8pZM7Jf2PXPrmC5SKaMfDskQ', 'type': 'tool_call'}] usage_metadata={'input_tokens': 2319, 'output_tokens': 104, 'total_tokens': 2423, 'input_token_details': {'audio': 0, 'cache_read': 1664}, 'output_token_details': {'audio': 0, 'reasoning': 64}}\n",
      "content='' additional_kwargs={'tool_calls': [{'id': 'call_hHGuxDraHvoj78KQLyjYJzSJ', 'function': {'arguments': '{\"location\": \"Kelowna, Canada\"}', 'name': 'run'}, 'type': 'function'}], 'refusal': None} response_metadata={'token_usage': {'completion_tokens': 736, 'prompt_tokens': 3333, 'total_tokens': 4069, 'completion_tokens_details': {'accepted_prediction_tokens': 0, 'audio_tokens': 0, 'reasoning_tokens': 704, 'rejected_prediction_tokens': 0}, 'prompt_tokens_details': {'audio_tokens': 0, 'cached_tokens': 0}}, 'model_name': 'o3-mini-2025-01-31', 'system_fingerprint': 'fp_e20469f047', 'id': 'chatcmpl-BjMA9m5wqNPXijf0Hzqic6Pryzeaf', 'service_tier': 'default', 'finish_reason': 'tool_calls', 'logprobs': None} id='run--e4a87817-0d0b-4244-8ab7-499324151be4-0' tool_calls=[{'name': 'run', 'args': {'location': 'Kelowna, Canada'}, 'id': 'call_hHGuxDraHvoj78KQLyjYJzSJ', 'type': 'tool_call'}] usage_metadata={'input_tokens': 3333, 'output_tokens': 736, 'total_tokens': 4069, 'input_token_details': {'audio': 0, 'cache_read': 0}, 'output_token_details': {'audio': 0, 'reasoning': 704}}\n",
      "content='Here’s some information to help you plan your trip to Kelowna, Canada:\\n\\n1. Top Tourist Attractions:\\n   • Okanagan Lake – Enjoy the stunning waterfront scenery, water sports, and nearby beaches.\\n   • Myra Canyon Park – Famous for its unique trestle bridges and scenic hiking/biking trails.\\n\\n2. Top Restaurants:\\n   • Salt & Brick – Known for its creative small plates and locally sourced ingredients.\\n   • Waterfront Wines Restaurant – A local favorite offering seasonal menus and an excellent wine selection.\\n\\n3. Top Activities:\\n   • Hiking – Explore trails such as those at Knox Mountain Park or along the picturesque boardwalk by the lake.\\n   • Wine Tours – Visit local vineyards and wineries to taste award-winning wines and enjoy the beautiful countryside.\\n\\n4. Means of Transportation:\\n   • Public Transit – Kelowna Regional Transit operates a good bus service around the city.\\n   • Additional Options – Renting a car, taxi services, rideshare, biking, or even flying into Kelowna International Airport (YLW) are convenient ways to get around.\\n\\n5. Current Weather:\\n   • The current conditions show a clear sky with a temperature of about 15°C. Highs are near 18°C, and it feels like around 14°C with light winds and low humidity.\\n\\n6. Weather Forecast:\\n   • While detailed forecast information isn’t provided here, you can expect similar mild, clear conditions based on current data. For an updated forecast before and during your trip, it’s a good idea to check a reliable weather service closer to your travel date.\\n\\nEnjoy your trip to Kelowna, and let me know if you need any more details!' additional_kwargs={'refusal': None} response_metadata={'token_usage': {'completion_tokens': 991, 'prompt_tokens': 3456, 'total_tokens': 4447, 'completion_tokens_details': {'accepted_prediction_tokens': 0, 'audio_tokens': 0, 'reasoning_tokens': 640, 'rejected_prediction_tokens': 0}, 'prompt_tokens_details': {'audio_tokens': 0, 'cached_tokens': 3328}}, 'model_name': 'o3-mini-2025-01-31', 'system_fingerprint': 'fp_e20469f047', 'id': 'chatcmpl-BjMAIO13J0MTfKCLT7IfINeRfgLqe', 'service_tier': 'default', 'finish_reason': 'stop', 'logprobs': None} id='run--a59ad703-acbc-4337-9fd7-5050351cb91a-0' usage_metadata={'input_tokens': 3456, 'output_tokens': 991, 'total_tokens': 4447, 'input_token_details': {'audio': 0, 'cache_read': 3328}, 'output_token_details': {'audio': 0, 'reasoning': 640}}\n"
     ]
    },
    {
     "data": {
      "text/plain": [
       "{'messages': [HumanMessage(content='Kelowna, Canada', additional_kwargs={}, response_metadata={}, id='f1275690-1e36-4e4a-828c-f97201527ee6'),\n",
       "  AIMessage(content='', additional_kwargs={'tool_calls': [{'id': 'call_DvGHGRpSAgfSxf6ToTxCizVF', 'function': {'arguments': '{\"query\": \"Kelowna, Canada top 2 tourist attractions\"}', 'name': 'tavily_search_results_json'}, 'type': 'function'}], 'refusal': None}, response_metadata={'token_usage': {'completion_tokens': 810, 'prompt_tokens': 235, 'total_tokens': 1045, 'completion_tokens_details': {'accepted_prediction_tokens': 0, 'audio_tokens': 0, 'reasoning_tokens': 768, 'rejected_prediction_tokens': 0}, 'prompt_tokens_details': {'audio_tokens': 0, 'cached_tokens': 0}}, 'model_name': 'o3-mini-2025-01-31', 'system_fingerprint': 'fp_e20469f047', 'id': 'chatcmpl-BjM9h5DPCeU0UbDIaAo1zw5fqwVPb', 'service_tier': 'default', 'finish_reason': 'tool_calls', 'logprobs': None}, id='run--5eda6755-6e1c-453b-a8fd-a852ed4a9bda-0', tool_calls=[{'name': 'tavily_search_results_json', 'args': {'query': 'Kelowna, Canada top 2 tourist attractions'}, 'id': 'call_DvGHGRpSAgfSxf6ToTxCizVF', 'type': 'tool_call'}], usage_metadata={'input_tokens': 235, 'output_tokens': 810, 'total_tokens': 1045, 'input_token_details': {'audio': 0, 'cache_read': 0}, 'output_token_details': {'audio': 0, 'reasoning': 768}}),\n",
       "  ToolMessage(content='[{\"title\": \"Attractions in Kelowna & the Okanagan - PlanetWare\", \"url\": \"https://www.planetware.com/tourist-attractions-/kelowna-cdn-bc-bcka.htm\", \"content\": \"Visitors often base themselves in Kelowna and explore the surrounding towns, like **Peachland**, **Summerland**, and Penticton, as well as the nearby resorts of **Silver Star** and **Big White**. For ideas on how to spend your time, see our list of top tourist attractions in Kelowna and the Okanagan.\\\\n\\\\n## Okanagan Lake\\\\n\\\\n![Okanagan Lake](/wpimages/2019/09/canada-okanagan-kelowna-attractions-okanagan-lake-and-boats.jpg) [...] ![Canada Travel Guide](/photos-tiles/canada-ottawa-changing-of-the-guard-parliament-hill-1.jpg)\\\\n![Tourist Attractions in Canada](/photos-tiles/canada-banff-national-park-moraine-lake-2.jpg)\\\\n![Beaches in Kelowna, BC](/photos-tiles/canada-british-columbia-kelowna-best-beaches-sutherland-park-beach-thumb.jpg)\\\\n![Hiking Trails in Kelowna, BC](/photos-tiles/canada-british-columbia-kelowna-best-hiking-trails-pauls-tomb-trail-thumb.jpg) [...] ![Hardy Falls](/wpimages/2019/09/canada-okanagan-kelowna-attractions-hardy-falls.jpg)\\\\n\\\\nPeachland is a picturesque community of 5,000 people set on the shores of Okanagan Lake, between Kelowna and Penticton. It\\'s a popular tourist destination, known for its thriving orchards. Stop in along the way here at one of the many fresh fruit stands for just-picked cherries, apricots, and of course, peaches.\", \"score\": 0.8747745}, {\"title\": \"THE 15 BEST Things to Do in Kelowna (2025) - Must-See Attractions\", \"url\": \"https://www.tripadvisor.com/Attractions-g154933-Activities-Kelowna_Okanagan_Valley_British_Columbia.html\", \"content\": \"Top Attractions in Kelowna ; 1. Myra Canyon Park · 4.8. 1,705. State Parks ; 2. The Vibrant Vine · 4.8. 965. Wineries & Vineyards ; 3. Kangaroo Creek Farm · 4.7.\", \"score\": 0.8660535}, {\"title\": \"9 Places To Visit In Kelowna: Do Not Miss To Explore These Places\", \"url\": \"https://traveltriangle.com/blog/places-to-visit-in-kelowna/\", \"content\": \"9 Best Places To Visit In Kelowna · 1. Okanagan Lake · 2. Mission Hill Family Estate Winery · 3. Bear Creek Provincial Park · 4. Knox Mountain Park.\", \"score\": 0.80070794}]', name='tavily_search_results_json', id='42c4284d-a0cb-4286-92ee-f90ae8b5d2a3', tool_call_id='call_DvGHGRpSAgfSxf6ToTxCizVF', artifact={'query': 'Kelowna, Canada top 2 tourist attractions', 'follow_up_questions': None, 'answer': None, 'images': [], 'results': [{'url': 'https://www.planetware.com/tourist-attractions-/kelowna-cdn-bc-bcka.htm', 'title': 'Attractions in Kelowna & the Okanagan - PlanetWare', 'content': \"Visitors often base themselves in Kelowna and explore the surrounding towns, like **Peachland**, **Summerland**, and Penticton, as well as the nearby resorts of **Silver Star** and **Big White**. For ideas on how to spend your time, see our list of top tourist attractions in Kelowna and the Okanagan.\\n\\n## Okanagan Lake\\n\\n![Okanagan Lake](/wpimages/2019/09/canada-okanagan-kelowna-attractions-okanagan-lake-and-boats.jpg) [...] ![Canada Travel Guide](/photos-tiles/canada-ottawa-changing-of-the-guard-parliament-hill-1.jpg)\\n![Tourist Attractions in Canada](/photos-tiles/canada-banff-national-park-moraine-lake-2.jpg)\\n![Beaches in Kelowna, BC](/photos-tiles/canada-british-columbia-kelowna-best-beaches-sutherland-park-beach-thumb.jpg)\\n![Hiking Trails in Kelowna, BC](/photos-tiles/canada-british-columbia-kelowna-best-hiking-trails-pauls-tomb-trail-thumb.jpg) [...] ![Hardy Falls](/wpimages/2019/09/canada-okanagan-kelowna-attractions-hardy-falls.jpg)\\n\\nPeachland is a picturesque community of 5,000 people set on the shores of Okanagan Lake, between Kelowna and Penticton. It's a popular tourist destination, known for its thriving orchards. Stop in along the way here at one of the many fresh fruit stands for just-picked cherries, apricots, and of course, peaches.\", 'score': 0.8747745, 'raw_content': None}, {'url': 'https://www.tripadvisor.com/Attractions-g154933-Activities-Kelowna_Okanagan_Valley_British_Columbia.html', 'title': 'THE 15 BEST Things to Do in Kelowna (2025) - Must-See Attractions', 'content': 'Top Attractions in Kelowna ; 1. Myra Canyon Park · 4.8. 1,705. State Parks ; 2. The Vibrant Vine · 4.8. 965. Wineries & Vineyards ; 3. Kangaroo Creek Farm · 4.7.', 'score': 0.8660535, 'raw_content': None}, {'url': 'https://traveltriangle.com/blog/places-to-visit-in-kelowna/', 'title': '9 Places To Visit In Kelowna: Do Not Miss To Explore These Places', 'content': '9 Best Places To Visit In Kelowna · 1. Okanagan Lake · 2. Mission Hill Family Estate Winery · 3. Bear Creek Provincial Park · 4. Knox Mountain Park.', 'score': 0.80070794, 'raw_content': None}], 'response_time': 2.42}),\n",
       "  AIMessage(content='', additional_kwargs={'tool_calls': [{'id': 'call_Eg7gZdRyLzYHhcOv6FJdWfTw', 'function': {'arguments': '{\"query\": \"Kelowna, Canada top 2 restaurants\"}', 'name': 'tavily_search_results_json'}, 'type': 'function'}], 'refusal': None}, response_metadata={'token_usage': {'completion_tokens': 169, 'prompt_tokens': 937, 'total_tokens': 1106, 'completion_tokens_details': {'accepted_prediction_tokens': 0, 'audio_tokens': 0, 'reasoning_tokens': 128, 'rejected_prediction_tokens': 0}, 'prompt_tokens_details': {'audio_tokens': 0, 'cached_tokens': 0}}, 'model_name': 'o3-mini-2025-01-31', 'system_fingerprint': 'fp_e20469f047', 'id': 'chatcmpl-BjM9tUD0Swd8sWBwZtnckAx9k74oh', 'service_tier': 'default', 'finish_reason': 'tool_calls', 'logprobs': None}, id='run--eaafd394-9ffe-4e75-b168-c7189e0a2d6a-0', tool_calls=[{'name': 'tavily_search_results_json', 'args': {'query': 'Kelowna, Canada top 2 restaurants'}, 'id': 'call_Eg7gZdRyLzYHhcOv6FJdWfTw', 'type': 'tool_call'}], usage_metadata={'input_tokens': 937, 'output_tokens': 169, 'total_tokens': 1106, 'input_token_details': {'audio': 0, 'cache_read': 0}, 'output_token_details': {'audio': 0, 'reasoning': 128}}),\n",
       "  ToolMessage(content='[{\"title\": \"BEST of Kelowna, BC, Canada Restaurants - Yelp\", \"url\": \"https://m.yelp.com/search?find_desc=Restaurants&find_loc=Kelowna%2C+BC\", \"content\": \"1. Gather · (39 reviews) · 105 - 460 Doyle Avenue, Kelowna, BC V1Y 0C2 Canada. (778) 478-2959 ; 2. Skinny Duke\\'s Glorious Emporium · (16 reviews) · 1481 Water Street\", \"score\": 0.88178825}, {\"title\": \"The best kelowna restaurants to impress for date night - Foodie Town\", \"url\": \"https://foodietown.ca/date-night-in-kelowna/\", \"content\": \"Salt & Brick is on the top of most tourists\\' best restaurant in Kelowna list. And while it is worthy of such a praise with their creative menu and beautiful\", \"score\": 0.8757978}, {\"title\": \"Discover Kelowna\\'s Top 10 Dining Destinations\", \"url\": \"https://www.theadventuristmagazine.com/kelowna-british-columbia-best-restaurants\", \"content\": \"![](https://images.squarespace-cdn.com/content/v1/66b2599c295fbf25503d63d7/f1e2111c-173d-4838-b284-9f709bd6ef9c/salt+and+brick+kelowna.jpg)\\\\n\\\\n### 1. Salt & Brick\\\\n\\\\n[Salt & Brick](https://www.saltandbrick.ca) is all about small plates and big flavor. The menu rotates daily, but you can bet the locally sourced ingredients will be front and center. You’ll also get a serious wine list, which is a bit of a theme in Kelowna, but who\\'s complaining? [...] [Waterfront Wines Restaurant](https://www.waterfrontrestaurant.ca) has long been a darling of the Kelowna dining scene. The open kitchen, seasonal menus, and great wine selection (no surprise there) make it a go-to for locals and visitors alike. The flat iron steak is a winner, but everything on the menu is worth a try.\\\\n\\\\n![](https://images.squarespace-cdn.com/content/v1/66b2599c295fbf25503d63d7/ccefd039-457c-4929-81fd-5df5cf517e08/Bouchons+Bistro+Kelowna+BC.jpg)\\\\n\\\\n### 4. Bouchons Bistro [...] ![The Adventurist Magazine](//images.squarespace-cdn.com/content/v1/66b2599c295fbf25503d63d7/b78a276c-789f-4f73-9b9d-fa0a7dd9ddef/The+Adventurist+Magazine.png?format=1500w)\\\\n![The Adventurist Magazine](//images.squarespace-cdn.com/content/v1/66b2599c295fbf25503d63d7/b78a276c-789f-4f73-9b9d-fa0a7dd9ddef/The+Adventurist+Magazine.png?format=1500w)\\\\n![](https://images.squarespace-cdn.com/content/v1/66b2599c295fbf25503d63d7/1b997d1e-ffcb-4465-bfe6-73454e5051a7/Salt+and+Brick+Kelowna2.jpg)\", \"score\": 0.8351749}]', name='tavily_search_results_json', id='7e728296-d79e-4538-b400-88977ae02295', tool_call_id='call_Eg7gZdRyLzYHhcOv6FJdWfTw', artifact={'query': 'Kelowna, Canada top 2 restaurants', 'follow_up_questions': None, 'answer': None, 'images': [], 'results': [{'url': 'https://m.yelp.com/search?find_desc=Restaurants&find_loc=Kelowna%2C+BC', 'title': 'BEST of Kelowna, BC, Canada Restaurants - Yelp', 'content': \"1. Gather · (39 reviews) · 105 - 460 Doyle Avenue, Kelowna, BC V1Y 0C2 Canada. (778) 478-2959 ; 2. Skinny Duke's Glorious Emporium · (16 reviews) · 1481 Water Street\", 'score': 0.88178825, 'raw_content': None}, {'url': 'https://foodietown.ca/date-night-in-kelowna/', 'title': 'The best kelowna restaurants to impress for date night - Foodie Town', 'content': \"Salt & Brick is on the top of most tourists' best restaurant in Kelowna list. And while it is worthy of such a praise with their creative menu and beautiful\", 'score': 0.8757978, 'raw_content': None}, {'url': 'https://www.theadventuristmagazine.com/kelowna-british-columbia-best-restaurants', 'title': \"Discover Kelowna's Top 10 Dining Destinations\", 'content': \"![](https://images.squarespace-cdn.com/content/v1/66b2599c295fbf25503d63d7/f1e2111c-173d-4838-b284-9f709bd6ef9c/salt+and+brick+kelowna.jpg)\\n\\n### 1. Salt & Brick\\n\\n[Salt & Brick](https://www.saltandbrick.ca) is all about small plates and big flavor. The menu rotates daily, but you can bet the locally sourced ingredients will be front and center. You’ll also get a serious wine list, which is a bit of a theme in Kelowna, but who's complaining? [...] [Waterfront Wines Restaurant](https://www.waterfrontrestaurant.ca) has long been a darling of the Kelowna dining scene. The open kitchen, seasonal menus, and great wine selection (no surprise there) make it a go-to for locals and visitors alike. The flat iron steak is a winner, but everything on the menu is worth a try.\\n\\n![](https://images.squarespace-cdn.com/content/v1/66b2599c295fbf25503d63d7/ccefd039-457c-4929-81fd-5df5cf517e08/Bouchons+Bistro+Kelowna+BC.jpg)\\n\\n### 4. Bouchons Bistro [...] ![The Adventurist Magazine](//images.squarespace-cdn.com/content/v1/66b2599c295fbf25503d63d7/b78a276c-789f-4f73-9b9d-fa0a7dd9ddef/The+Adventurist+Magazine.png?format=1500w)\\n![The Adventurist Magazine](//images.squarespace-cdn.com/content/v1/66b2599c295fbf25503d63d7/b78a276c-789f-4f73-9b9d-fa0a7dd9ddef/The+Adventurist+Magazine.png?format=1500w)\\n![](https://images.squarespace-cdn.com/content/v1/66b2599c295fbf25503d63d7/1b997d1e-ffcb-4465-bfe6-73454e5051a7/Salt+and+Brick+Kelowna2.jpg)\", 'score': 0.8351749, 'raw_content': None}], 'response_time': 1.12}),\n",
       "  AIMessage(content='', additional_kwargs={'tool_calls': [{'id': 'call_EcHrTUq9gMyTMjoZxz8Ocgps', 'function': {'arguments': '{\"query\": \"Kelowna, Canada top 2 activities\"}', 'name': 'tavily_search_results_json'}, 'type': 'function'}], 'refusal': None}, response_metadata={'token_usage': {'completion_tokens': 41, 'prompt_tokens': 1750, 'total_tokens': 1791, 'completion_tokens_details': {'accepted_prediction_tokens': 0, 'audio_tokens': 0, 'reasoning_tokens': 0, 'rejected_prediction_tokens': 0}, 'prompt_tokens_details': {'audio_tokens': 0, 'cached_tokens': 0}}, 'model_name': 'o3-mini-2025-01-31', 'system_fingerprint': 'fp_e20469f047', 'id': 'chatcmpl-BjM9yCDeUb9u8ZuAEP3oHevRBzW4Z', 'service_tier': 'default', 'finish_reason': 'tool_calls', 'logprobs': None}, id='run--6171dede-d899-4576-9e49-8496f9569b0d-0', tool_calls=[{'name': 'tavily_search_results_json', 'args': {'query': 'Kelowna, Canada top 2 activities'}, 'id': 'call_EcHrTUq9gMyTMjoZxz8Ocgps', 'type': 'tool_call'}], usage_metadata={'input_tokens': 1750, 'output_tokens': 41, 'total_tokens': 1791, 'input_token_details': {'audio': 0, 'cache_read': 0}, 'output_token_details': {'audio': 0, 'reasoning': 0}}),\n",
       "  ToolMessage(content='[{\"title\": \"TOP 14 Things To Do In Kelowna Travel Guide - YouTube\", \"url\": \"https://www.youtube.com/watch?v=YomHivwfMWk\", \"content\": \"Outdoor enthusiasts will find plenty of cool things to do in Kelowna, including hiking in Knox Mountain Park, mountain biking in Myra-Bellevue Provincial Park, or golfing at one of the many world-class courses. In winter, nearby Big White Ski Resort offers excellent skiing and snowboarding opportunities. [...] One of the best things to do in Kelowna is to explore its picturesque waterfront along Okanagan Lake. The city\\'s downtown area boasts a beautiful boardwalk where visitors can stroll, cycle, or simply relax while taking in the breathtaking views. Water enthusiasts will find no shortage of fun things to do in Kelowna, from swimming and paddleboarding to boating and parasailing. [...] Wine lovers will be delighted by the numerous vineyards and wineries scattered throughout the region. Taking a wine tour is among the top things to do in Kelowna, offering a chance to sample award-winning wines and learn about the area\\'s rich viticultural heritage. For those looking for unique things to do in Kelowna, consider joining a guided e-bike tour through the scenic wine country.\", \"score\": 0.7623715}, {\"title\": \"The Perfect Weekend in Kelowna BC, a Must-Visit Foodie Destination\", \"url\": \"https://www.emeraldpalate.com/weekend-in-kelowna/\", \"content\": \"The two most popular hikes are the 2.6-mile [Apex Trail](https://alltrails.pxf.io/XY95ro) and 3-mile [Paul’s Tomb Trail](https://alltrails.pxf.io/oq6aGb). Apex takes hikers to a lookout on the top of the mountain while Paul’s Tomb goes along the rocky beach along the lake. Any option is a great way to experience the fresh airs and beautiful views Kelowna has to offer.\", \"score\": 0.75659186}, {\"title\": \"10 TOP Things to Do in Kelowna June 2025 | Expedia\", \"url\": \"https://www.expedia.com.au/Things-To-Do-In-Kelowna.d3997.Travel-Guide-Activities\", \"content\": \"Kelowna Tourist Attractions & Activities ; Private Kelowna Sailing Cruise on Okanagan Lake. Activity duration is 2 hours. 2h ; Kelowna: Craft Beer Hop Guided Tour.\", \"score\": 0.75377536}]', name='tavily_search_results_json', id='8a498cec-b16f-4b70-b6cd-f07ca4a57c1e', tool_call_id='call_EcHrTUq9gMyTMjoZxz8Ocgps', artifact={'query': 'Kelowna, Canada top 2 activities', 'follow_up_questions': None, 'answer': None, 'images': [], 'results': [{'url': 'https://www.youtube.com/watch?v=YomHivwfMWk', 'title': 'TOP 14 Things To Do In Kelowna Travel Guide - YouTube', 'content': \"Outdoor enthusiasts will find plenty of cool things to do in Kelowna, including hiking in Knox Mountain Park, mountain biking in Myra-Bellevue Provincial Park, or golfing at one of the many world-class courses. In winter, nearby Big White Ski Resort offers excellent skiing and snowboarding opportunities. [...] One of the best things to do in Kelowna is to explore its picturesque waterfront along Okanagan Lake. The city's downtown area boasts a beautiful boardwalk where visitors can stroll, cycle, or simply relax while taking in the breathtaking views. Water enthusiasts will find no shortage of fun things to do in Kelowna, from swimming and paddleboarding to boating and parasailing. [...] Wine lovers will be delighted by the numerous vineyards and wineries scattered throughout the region. Taking a wine tour is among the top things to do in Kelowna, offering a chance to sample award-winning wines and learn about the area's rich viticultural heritage. For those looking for unique things to do in Kelowna, consider joining a guided e-bike tour through the scenic wine country.\", 'score': 0.7623715, 'raw_content': None}, {'url': 'https://www.emeraldpalate.com/weekend-in-kelowna/', 'title': 'The Perfect Weekend in Kelowna BC, a Must-Visit Foodie Destination', 'content': 'The two most popular hikes are the 2.6-mile [Apex Trail](https://alltrails.pxf.io/XY95ro) and 3-mile [Paul’s Tomb Trail](https://alltrails.pxf.io/oq6aGb). Apex takes hikers to a lookout on the top of the mountain while Paul’s Tomb goes along the rocky beach along the lake. Any option is a great way to experience the fresh airs and beautiful views Kelowna has to offer.', 'score': 0.75659186, 'raw_content': None}, {'url': 'https://www.expedia.com.au/Things-To-Do-In-Kelowna.d3997.Travel-Guide-Activities', 'title': '10 TOP Things to Do in Kelowna June 2025 | Expedia', 'content': 'Kelowna Tourist Attractions & Activities ; Private Kelowna Sailing Cruise on Okanagan Lake. Activity duration is 2 hours. 2h ; Kelowna: Craft Beer Hop Guided Tour.', 'score': 0.75377536, 'raw_content': None}], 'response_time': 2.85}),\n",
       "  AIMessage(content='', additional_kwargs={'tool_calls': [{'id': 'call_8pZM7Jf2PXPrmC5SKaMfDskQ', 'function': {'arguments': '{\"query\": \"Kelowna, Canada means of transportation\"}', 'name': 'tavily_search_results_json'}, 'type': 'function'}], 'refusal': None}, response_metadata={'token_usage': {'completion_tokens': 104, 'prompt_tokens': 2319, 'total_tokens': 2423, 'completion_tokens_details': {'accepted_prediction_tokens': 0, 'audio_tokens': 0, 'reasoning_tokens': 64, 'rejected_prediction_tokens': 0}, 'prompt_tokens_details': {'audio_tokens': 0, 'cached_tokens': 1664}}, 'model_name': 'o3-mini-2025-01-31', 'system_fingerprint': 'fp_e20469f047', 'id': 'chatcmpl-BjMA3yuyufvg08FYGmndGXT5l405f', 'service_tier': 'default', 'finish_reason': 'tool_calls', 'logprobs': None}, id='run--f56ffab1-07b9-413a-8178-ae93779b5427-0', tool_calls=[{'name': 'tavily_search_results_json', 'args': {'query': 'Kelowna, Canada means of transportation'}, 'id': 'call_8pZM7Jf2PXPrmC5SKaMfDskQ', 'type': 'tool_call'}], usage_metadata={'input_tokens': 2319, 'output_tokens': 104, 'total_tokens': 2423, 'input_token_details': {'audio': 0, 'cache_read': 1664}, 'output_token_details': {'audio': 0, 'reasoning': 64}}),\n",
       "  ToolMessage(content='[{\"title\": \"Getting Around Kelowna Without A Car | Bus Transit, Bike Routes ...\", \"url\": \"https://www.mykelownahomesearch.com/blog/getting-around-kelowna-without-a-car-bus-transit-bike-routes-car-sharing-taxis-walking-paths\", \"content\": \"If you don\\'t own a car as your main mode of transportation, you can still get around Kelowna using a variety of public and private transport options.\", \"score\": 0.71948266}, {\"title\": \"Kelowna Regional Transit System - Wikipedia\", \"url\": \"https://en.wikipedia.org/wiki/Kelowna_Regional_Transit_System\", \"content\": \"**Kelowna Regional Transit System** is operated by [Transdev](/wiki/Transdev \\\\\"Transdev\\\\\"), providing public bus transportation services in part of the central [Okanagan Valley](/wiki/Okanagan_Valley \\\\\"Okanagan Valley\\\\\") of [British Columbia](/wiki/British_Columbia \\\\\"British Columbia\\\\\"), [Canada](/wiki/Canada \\\\\"Canada\\\\\").[[2]](#cite_note-i-go-Transit-2) [...] | No. | Name | Areas Served | Notes |\\\\n| --- | --- | --- | --- |\\\\n| **1** | **Lakeshore** | [Kelowna](/wiki/Kelowna \\\\\"Kelowna\\\\\") |  |\\\\n| **2** | **North End Shuttle** | Kelowna |  |\\\\n| **3** | **Dilworth Mt.** | Kelowna |  |\\\\n| **4** | **Pandosy Express** | Kelowna | Weekday rush hours, September to June only |\\\\n| **5** | **Gordon** | Kelowna |  |\\\\n| **6** | **Glenmore/UBCO Express** | Kelowna |  |\\\\n| **8** | **University/College** | Kelowna |  |\\\\n| **9** | **Shopper Shuttle** | Kelowna |  | [...] Kelowna Regional Transit was one of the first public transit systems in Canada to have double-decker buses, and the first in Canada to have hybrid buses on regular routes.[[4]](#cite_note-4) The hybrid and double deckers buses have since been relocated to [Victoria](/wiki/Victoria,_British_Columbia \\\\\"Victoria, British Columbia\\\\\").\", \"score\": 0.71185225}, {\"title\": \"Getting to Kelowna | Travel and Transportation Information\", \"url\": \"https://www.tourismkelowna.com/plan/getting-to-kelowna/\", \"content\": \"![CCMA Promo image](https://assets.simpleviewinc.com/simpleview/image/upload/c_fill,f_jpg,h_1,q_65,w_1/v1/clients/kelowna-redesign/Snapinsta_app_468403383_1074874067761753_3363427297318239828_n_1080_d2fc3c73-1258-4bde-8348-171d0e79d327.jpg)\\\\n\\\\n### Country Music Week\\\\n\\\\n![Icon for Video Link](/includes/public/assets/shared/custom-video-icon.svg)\\\\n\\\\n# Getting to Kelowna\\\\n\\\\nGetting here is easy—fly, drive, or bus in and let the adventure begin [...] ![YLW](https://assets.simpleviewinc.com/simpleview/image/upload/c_fill,f_jpg,h_784,q_65,w_639/v1/clients/kelowna/YLW_at_night_f43b40dc-014e-4744-bf82-4853cef39e54.jpg)\\\\n\\\\nGetting to Kelowna is easy and effortless. Fly into Kelowna International Airport (YLW), take a scenic road trip along Highway 97, or hop on a bus for a relaxed ride into the heart of the Okanagan. However you travel, adventure starts the moment you arrive.\\\\n\\\\n## [Air](https://www.tourismkelowna.com/plan/how-to-get-here/air/) [...] E Bus offers regularly scheduled services throughout BC and Alberta. Learn about passenger fares and schedule information.\\\\n\\\\n![Bus Tour at Summerhill Winery, Kelowna BC](https://assets.simpleviewinc.com/simpleview/image/upload/c_fill,f_jpg,h_644,q_65,w_639/v1/clients/kelowna/Activ041_23f1a84b-a739-403c-5bf6e8e0486b2eb2.jpg)\\\\n\\\\n##\", \"score\": 0.68090034}]', name='tavily_search_results_json', id='06e3898e-3680-4c55-9b54-6a71369225bf', tool_call_id='call_8pZM7Jf2PXPrmC5SKaMfDskQ', artifact={'query': 'Kelowna, Canada means of transportation', 'follow_up_questions': None, 'answer': None, 'images': [], 'results': [{'url': 'https://www.mykelownahomesearch.com/blog/getting-around-kelowna-without-a-car-bus-transit-bike-routes-car-sharing-taxis-walking-paths', 'title': 'Getting Around Kelowna Without A Car | Bus Transit, Bike Routes ...', 'content': \"If you don't own a car as your main mode of transportation, you can still get around Kelowna using a variety of public and private transport options.\", 'score': 0.71948266, 'raw_content': None}, {'url': 'https://en.wikipedia.org/wiki/Kelowna_Regional_Transit_System', 'title': 'Kelowna Regional Transit System - Wikipedia', 'content': '**Kelowna Regional Transit System** is operated by [Transdev](/wiki/Transdev \"Transdev\"), providing public bus transportation services in part of the central [Okanagan Valley](/wiki/Okanagan_Valley \"Okanagan Valley\") of [British Columbia](/wiki/British_Columbia \"British Columbia\"), [Canada](/wiki/Canada \"Canada\").[[2]](#cite_note-i-go-Transit-2) [...] | No. | Name | Areas Served | Notes |\\n| --- | --- | --- | --- |\\n| **1** | **Lakeshore** | [Kelowna](/wiki/Kelowna \"Kelowna\") |  |\\n| **2** | **North End Shuttle** | Kelowna |  |\\n| **3** | **Dilworth Mt.** | Kelowna |  |\\n| **4** | **Pandosy Express** | Kelowna | Weekday rush hours, September to June only |\\n| **5** | **Gordon** | Kelowna |  |\\n| **6** | **Glenmore/UBCO Express** | Kelowna |  |\\n| **8** | **University/College** | Kelowna |  |\\n| **9** | **Shopper Shuttle** | Kelowna |  | [...] Kelowna Regional Transit was one of the first public transit systems in Canada to have double-decker buses, and the first in Canada to have hybrid buses on regular routes.[[4]](#cite_note-4) The hybrid and double deckers buses have since been relocated to [Victoria](/wiki/Victoria,_British_Columbia \"Victoria, British Columbia\").', 'score': 0.71185225, 'raw_content': None}, {'url': 'https://www.tourismkelowna.com/plan/getting-to-kelowna/', 'title': 'Getting to Kelowna | Travel and Transportation Information', 'content': '![CCMA Promo image](https://assets.simpleviewinc.com/simpleview/image/upload/c_fill,f_jpg,h_1,q_65,w_1/v1/clients/kelowna-redesign/Snapinsta_app_468403383_1074874067761753_3363427297318239828_n_1080_d2fc3c73-1258-4bde-8348-171d0e79d327.jpg)\\n\\n### Country Music Week\\n\\n![Icon for Video Link](/includes/public/assets/shared/custom-video-icon.svg)\\n\\n# Getting to Kelowna\\n\\nGetting here is easy—fly, drive, or bus in and let the adventure begin [...] ![YLW](https://assets.simpleviewinc.com/simpleview/image/upload/c_fill,f_jpg,h_784,q_65,w_639/v1/clients/kelowna/YLW_at_night_f43b40dc-014e-4744-bf82-4853cef39e54.jpg)\\n\\nGetting to Kelowna is easy and effortless. Fly into Kelowna International Airport (YLW), take a scenic road trip along Highway 97, or hop on a bus for a relaxed ride into the heart of the Okanagan. However you travel, adventure starts the moment you arrive.\\n\\n## [Air](https://www.tourismkelowna.com/plan/how-to-get-here/air/) [...] E Bus offers regularly scheduled services throughout BC and Alberta. Learn about passenger fares and schedule information.\\n\\n![Bus Tour at Summerhill Winery, Kelowna BC](https://assets.simpleviewinc.com/simpleview/image/upload/c_fill,f_jpg,h_644,q_65,w_639/v1/clients/kelowna/Activ041_23f1a84b-a739-403c-5bf6e8e0486b2eb2.jpg)\\n\\n##', 'score': 0.68090034, 'raw_content': None}], 'response_time': 3.38}),\n",
       "  AIMessage(content='', additional_kwargs={'tool_calls': [{'id': 'call_hHGuxDraHvoj78KQLyjYJzSJ', 'function': {'arguments': '{\"location\": \"Kelowna, Canada\"}', 'name': 'run'}, 'type': 'function'}], 'refusal': None}, response_metadata={'token_usage': {'completion_tokens': 736, 'prompt_tokens': 3333, 'total_tokens': 4069, 'completion_tokens_details': {'accepted_prediction_tokens': 0, 'audio_tokens': 0, 'reasoning_tokens': 704, 'rejected_prediction_tokens': 0}, 'prompt_tokens_details': {'audio_tokens': 0, 'cached_tokens': 0}}, 'model_name': 'o3-mini-2025-01-31', 'system_fingerprint': 'fp_e20469f047', 'id': 'chatcmpl-BjMA9m5wqNPXijf0Hzqic6Pryzeaf', 'service_tier': 'default', 'finish_reason': 'tool_calls', 'logprobs': None}, id='run--e4a87817-0d0b-4244-8ab7-499324151be4-0', tool_calls=[{'name': 'run', 'args': {'location': 'Kelowna, Canada'}, 'id': 'call_hHGuxDraHvoj78KQLyjYJzSJ', 'type': 'tool_call'}], usage_metadata={'input_tokens': 3333, 'output_tokens': 736, 'total_tokens': 4069, 'input_token_details': {'audio': 0, 'cache_read': 0}, 'output_token_details': {'audio': 0, 'reasoning': 704}}),\n",
       "  ToolMessage(content='In Kelowna, Canada, the current weather is as follows:\\nDetailed status: clear sky\\nWind speed: 2.57 m/s, direction: 160°\\nHumidity: 50%\\nTemperature: \\n  - Current: 15.07°C\\n  - High: 18.49°C\\n  - Low: 15.07°C\\n  - Feels like: 13.94°C\\nRain: {}\\nHeat index: None\\nCloud cover: 0%', name='run', id='7201d670-1f7d-4188-8c70-7458e0ada491', tool_call_id='call_hHGuxDraHvoj78KQLyjYJzSJ'),\n",
       "  AIMessage(content='Here’s some information to help you plan your trip to Kelowna, Canada:\\n\\n1. Top Tourist Attractions:\\n   • Okanagan Lake – Enjoy the stunning waterfront scenery, water sports, and nearby beaches.\\n   • Myra Canyon Park – Famous for its unique trestle bridges and scenic hiking/biking trails.\\n\\n2. Top Restaurants:\\n   • Salt & Brick – Known for its creative small plates and locally sourced ingredients.\\n   • Waterfront Wines Restaurant – A local favorite offering seasonal menus and an excellent wine selection.\\n\\n3. Top Activities:\\n   • Hiking – Explore trails such as those at Knox Mountain Park or along the picturesque boardwalk by the lake.\\n   • Wine Tours – Visit local vineyards and wineries to taste award-winning wines and enjoy the beautiful countryside.\\n\\n4. Means of Transportation:\\n   • Public Transit – Kelowna Regional Transit operates a good bus service around the city.\\n   • Additional Options – Renting a car, taxi services, rideshare, biking, or even flying into Kelowna International Airport (YLW) are convenient ways to get around.\\n\\n5. Current Weather:\\n   • The current conditions show a clear sky with a temperature of about 15°C. Highs are near 18°C, and it feels like around 14°C with light winds and low humidity.\\n\\n6. Weather Forecast:\\n   • While detailed forecast information isn’t provided here, you can expect similar mild, clear conditions based on current data. For an updated forecast before and during your trip, it’s a good idea to check a reliable weather service closer to your travel date.\\n\\nEnjoy your trip to Kelowna, and let me know if you need any more details!', additional_kwargs={'refusal': None}, response_metadata={'token_usage': {'completion_tokens': 991, 'prompt_tokens': 3456, 'total_tokens': 4447, 'completion_tokens_details': {'accepted_prediction_tokens': 0, 'audio_tokens': 0, 'reasoning_tokens': 640, 'rejected_prediction_tokens': 0}, 'prompt_tokens_details': {'audio_tokens': 0, 'cached_tokens': 3328}}, 'model_name': 'o3-mini-2025-01-31', 'system_fingerprint': 'fp_e20469f047', 'id': 'chatcmpl-BjMAIO13J0MTfKCLT7IfINeRfgLqe', 'service_tier': 'default', 'finish_reason': 'stop', 'logprobs': None}, id='run--a59ad703-acbc-4337-9fd7-5050351cb91a-0', usage_metadata={'input_tokens': 3456, 'output_tokens': 991, 'total_tokens': 4447, 'input_token_details': {'audio': 0, 'cache_read': 3328}, 'output_token_details': {'audio': 0, 'reasoning': 640}})]}"
      ]
     },
     "execution_count": 104,
     "metadata": {},
     "output_type": "execute_result"
    }
   ],
   "source": [
    "message = [HumanMessage(content = 'Kelowna, Canada')]\n",
    "app.invoke({'messages':message})"
   ]
  },
  {
   "cell_type": "code",
   "execution_count": 30,
   "id": "88199b17",
   "metadata": {},
   "outputs": [
    {
     "name": "stdout",
     "output_type": "stream",
     "text": [
      "================================\u001b[1m Human Message \u001b[0m=================================\n",
      "\n",
      "Kelowna, Canada\n",
      "==================================\u001b[1m Ai Message \u001b[0m==================================\n",
      "Tool Calls:\n",
      "  search_result (call_HM4kWJ8liJUXalEkXtZ9Tmo4)\n",
      " Call ID: call_HM4kWJ8liJUXalEkXtZ9Tmo4\n",
      "  Args:\n",
      "    state: {'messages': [{'content': 'Please provide detailed travel recommendations for Kelowna, Canada. I am looking for the top 5 tourist attractions, top 5 restaurants, top 5 activities, and the common means of transportation within the city. Please include any useful details about each category to help plan a trip.'}]}\n",
      "=================================\u001b[1m Tool Message \u001b[0m=================================\n",
      "Name: search_result\n",
      "\n",
      "Error: search_result is not a valid tool, try one of [duckduckgo_search, run].\n",
      "==================================\u001b[1m Ai Message \u001b[0m==================================\n",
      "Tool Calls:\n",
      "  run (call_s57YrvDspl6zdQNZHcEKKLj9)\n",
      " Call ID: call_s57YrvDspl6zdQNZHcEKKLj9\n",
      "  Args:\n",
      "    location: Kelowna, Canada\n",
      "=================================\u001b[1m Tool Message \u001b[0m=================================\n",
      "Name: run\n",
      "\n",
      "In Kelowna, Canada, the current weather is as follows:\n",
      "Detailed status: clear sky\n",
      "Wind speed: 3.09 m/s, direction: 140°\n",
      "Humidity: 49%\n",
      "Temperature: \n",
      "  - Current: 15.63°C\n",
      "  - High: 19.49°C\n",
      "  - Low: 15.63°C\n",
      "  - Feels like: 14.53°C\n",
      "Rain: {}\n",
      "Heat index: None\n",
      "Cloud cover: 0%\n",
      "==================================\u001b[1m Ai Message \u001b[0m==================================\n",
      "\n",
      "Below are some detailed travel recommendations for Kelowna, Canada:\n",
      "\n",
      "──────────────────────────────\n",
      "1. Top 5 Tourist Attractions\n",
      "\n",
      "• Knox Mountain Park\n",
      "  – A favorite among locals and visitors alike, this park offers several hiking trails that yield panoramic views of Kelowna and Okanagan Lake. It's ideal for a morning hike or a sunset stroll.\n",
      "\n",
      "• Myra Canyon Park & Kettle Valley Railway Trestles\n",
      "  – Explore historic trestles and tunnels along this iconic route. Whether you’re biking or hiking, you’ll experience stunning landscapes steeped in history.\n",
      "\n",
      "• Kelowna Waterfront Park\n",
      "  – Located along the shores of Okanagan Lake, this park boasts picturesque walking paths, picnic areas, and play spaces – perfect for a relaxing day outdoors with family or friends.\n",
      "\n",
      "• Mission Hill Family Estate Winery\n",
      "  – Nestled in the heart of the Okanagan wine region, this winery combines award-winning wines with breathtaking architecture and panoramic views. Enjoy wine tastings, guided tours, and even fine dining on site.\n",
      "\n",
      "• Kelowna Art Gallery (or local cultural venues)\n",
      "  – For those interested in regional art and culture, Kelowna offers several smaller galleries and cultural centers that feature local artists and rotating exhibitions.\n",
      "\n",
      "──────────────────────────────\n",
      "2. Top 5 Restaurants\n",
      "\n",
      "• RauDZ Regional Table\n",
      "  – Celebrated for its farm-to-table approach, RauDZ offers dishes made with locally sourced ingredients, reflecting the flavors of the region in a warm and inviting setting.\n",
      "\n",
      "• Waterfront Wines Restaurant\n",
      "  – Enjoy a dining experience with a view! This restaurant pairs creative menus with a well-curated wine list, often featuring local Okanagan wines.\n",
      "\n",
      "• Bouchons Bistro\n",
      "  – A cozy spot offering French-inspired dishes with locally influenced twists. It’s great for both a casual lunch or a romantic dinner.\n",
      "\n",
      "• Salt & Brick\n",
      "  – Known for its modern approach to comfort food, Salt & Brick offers a relaxed ambiance and a menu that emphasizes local produce in a creative style.\n",
      "\n",
      "• Old Vines Restaurant\n",
      "  – Often found nestled near vineyards, this restaurant delivers an upscale dining experience, perfect for those looking to savor gourmet dishes alongside fine wines.\n",
      "\n",
      "──────────────────────────────\n",
      "3. Top 5 Activities\n",
      "\n",
      "• Wine Tours & Vineyard Visits\n",
      "  – Kelowna is the heart of British Columbia’s wine country. Join a guided wine tour to visit multiple wineries, learn about local varietals, and indulge in tastings.\n",
      "\n",
      "• Water Sports on Okanagan Lake\n",
      "  – From kayaking and paddleboarding to boat cruises, the lake offers plenty of opportunities to enjoy water-based activities, especially on a clear day.\n",
      "\n",
      "• Hiking & Biking\n",
      "  – With trails in places like Knox Mountain Park and Myra Canyon, both hiking and mountain biking enthusiasts will find routes that offer stunning vistas and varying levels of challenge.\n",
      "\n",
      "• Boating & Fishing\n",
      "  – Rent a boat or join a fishing tour to experience Okanagan Lake from the water and maybe even reel in some local fish.\n",
      "\n",
      "• Exploring Downtown & Local Markets\n",
      "  – Discover the charm of downtown Kelowna by strolling along its streets, visiting local shops, cafes, and seasonal farmers’ markets that celebrate the region’s produce and crafts.\n",
      "\n",
      "──────────────────────────────\n",
      "4. Means of Transportation\n",
      "\n",
      "• Public Transit\n",
      "  – Kelowna Regional Transit provides bus services that cover many parts of the city, making it easy to explore without a car.\n",
      "\n",
      "• Car Rentals\n",
      "  – Given the spread-out nature of Kelowna and surrounding attractions (especially vineyards and lakeside spots), renting a car is a popular option.\n",
      "\n",
      "• Rideshare & Taxis\n",
      "  – Services like Uber (if available) or local taxi companies are common in the downtown area and can be convenient for shorter trips.\n",
      "\n",
      "• Bicycles & Walking\n",
      "  – In the downtown area and for park explorations, many visitors and locals enjoy cycling or walking, especially when the weather is clear.\n",
      "\n",
      "──────────────────────────────\n",
      "Additional Note: Current Weather\n",
      "\n",
      "According to the latest weather information, Kelowna is enjoying a clear sky with mild temperatures (current temperature hovering around 15.6°C, with a high in the upper teens). This is ideal for outdoor activities and exploring the city’s attractions.\n",
      "\n",
      "Enjoy planning your trip to Kelowna, and have a fantastic time exploring all that this vibrant city has to offer!\n"
     ]
    }
   ],
   "source": [
    "for msg in response['messages']:\n",
    "    msg.pretty_print()"
   ]
  },
  {
   "cell_type": "code",
   "execution_count": 20,
   "id": "8c0d3eb2",
   "metadata": {},
   "outputs": [
    {
     "data": {
      "text/plain": [
       "{'messages': [HumanMessage(content='Prepare a travel plan for Kelowna, Canada from 1-4 July 2025', additional_kwargs={}, response_metadata={}, id='8f6cf1b5-546d-4125-b482-c8aa0a86218d'),\n",
       "  AIMessage(content='', additional_kwargs={'tool_calls': [{'id': 'call_beEIoI7HoVdsBF0ZI5UuInXB', 'function': {'arguments': '{\"query\": \"Kelowna top 5 tourist attractions in Kelowna, Canada\"}', 'name': 'duckduckgo_search'}, 'type': 'function'}], 'refusal': None}, response_metadata={'token_usage': {'completion_tokens': 813, 'prompt_tokens': 238, 'total_tokens': 1051, 'completion_tokens_details': {'accepted_prediction_tokens': 0, 'audio_tokens': 0, 'reasoning_tokens': 768, 'rejected_prediction_tokens': 0}, 'prompt_tokens_details': {'audio_tokens': 0, 'cached_tokens': 0}}, 'model_name': 'o3-mini-2025-01-31', 'system_fingerprint': 'fp_e20469f047', 'id': 'chatcmpl-BjLMwwqF0TP5LxFAGsgMV7LWsmtFY', 'service_tier': 'default', 'finish_reason': 'tool_calls', 'logprobs': None}, id='run--61bc244f-79ba-4eac-ab0e-ef346ae82a07-0', tool_calls=[{'name': 'duckduckgo_search', 'args': {'query': 'Kelowna top 5 tourist attractions in Kelowna, Canada'}, 'id': 'call_beEIoI7HoVdsBF0ZI5UuInXB', 'type': 'tool_call'}], usage_metadata={'input_tokens': 238, 'output_tokens': 813, 'total_tokens': 1051, 'input_token_details': {'audio': 0, 'cache_read': 0}, 'output_token_details': {'audio': 0, 'reasoning': 768}}),\n",
       "  ToolMessage(content=\"Kelowna is known for its wineries, lakefront beaches, and outdoor lifestyle. It's a top destination for wine lovers, foodies, golfers, cyclists, and anyone looking to relax in the Okanagan sun. How do I spend a day in Kelowna? There are so many things to do in Kelowna that your day will be special no matter how you choose to spend it. Kelowna can be considered as the name of Wine Country. Knox Mountain Park. Go to the summit of Knox Mountain Park for the greatest view of Kelowna and this is a famous place that travelers want to explore among Kelowna tourist attractions. The view from the upper pergola, which is 300 meters over Lake Okanagan, is breathtaking. Kelowna is a very hot place during the summer months and fairly chilly in the winter, although milder than most of Canada. Still, most of Kelowna's tourism happens from spring to fall as people come to enjoy the lakes, go golfing and visit the wineries. However, Kelowna is also home to Big White Ski Resort, which is a very popular ski resort ... Less than 30km from downtown a trip out to Myra Canyon is one of the top attractions in Kelowna. Myra Canyon is part of the Kettle Valley Railway and one of the most scenic places in all of the Okanagan Valley. The Trestles at Myra Canyon are 4100 ft above the Okanagan Valley so you know that the views will be incredible. If you're looking for fun and unusual things to do in Kelowna, this list will give you inspiration for wine tastings, hikes, cultural attractions, wintertime adventures, and more. 250-575-5687 5505 Airport Way Kelowna, British Columbia V1V 3C3\", name='duckduckgo_search', id='a846a6bb-a9bf-4a52-8828-8c9cf78a9ad7', tool_call_id='call_beEIoI7HoVdsBF0ZI5UuInXB'),\n",
       "  AIMessage(content='', additional_kwargs={'tool_calls': [{'id': 'call_Q90khuS5KOlFCvW65sl9yLUw', 'function': {'arguments': '{\"query\": \"Kelowna top 5 restaurants in Kelowna, Canada\"}', 'name': 'duckduckgo_search'}, 'type': 'function'}], 'refusal': None}, response_metadata={'token_usage': {'completion_tokens': 236, 'prompt_tokens': 654, 'total_tokens': 890, 'completion_tokens_details': {'accepted_prediction_tokens': 0, 'audio_tokens': 0, 'reasoning_tokens': 192, 'rejected_prediction_tokens': 0}, 'prompt_tokens_details': {'audio_tokens': 0, 'cached_tokens': 0}}, 'model_name': 'o3-mini-2025-01-31', 'system_fingerprint': 'fp_e20469f047', 'id': 'chatcmpl-BjLN5CwWkGv9Ny5ufq93BPzFuXRSQ', 'service_tier': 'default', 'finish_reason': 'tool_calls', 'logprobs': None}, id='run--c38b9feb-dbd1-4645-9798-2ab847c15d88-0', tool_calls=[{'name': 'duckduckgo_search', 'args': {'query': 'Kelowna top 5 restaurants in Kelowna, Canada'}, 'id': 'call_Q90khuS5KOlFCvW65sl9yLUw', 'type': 'tool_call'}], usage_metadata={'input_tokens': 654, 'output_tokens': 236, 'total_tokens': 890, 'input_token_details': {'audio': 0, 'cache_read': 0}, 'output_token_details': {'audio': 0, 'reasoning': 192}}),\n",
       "  ToolMessage(content=\"Discover five new restaurants in Kelowna, each offering fresh flavours, unique menus, and inviting spaces to enjoy your next local dining experience. Kelowna's Best International Cuisine Restaurants From the bustling downtown core to serene lakeside views, this city offers a range of dining experiences that bring global flavours to your table. Uncover the culinary treasures of Kelowna with our guide to the 12 best restaurants in the area. Treat your taste buds to a remarkable dining experience. Welcome to a tasty adventure in Kelowna, BC, where the food scene is as lively as the beautiful Okanagan Valley! This article will introduce you to the 12 best restaurants in town, each one offering something special and delicious. We've chosen these places to highlight the variety and excitement of Kelowna's food culture, so whether you're a serious foodie or just want a good meal, there ... The best restaurants in Kelowna, all in one place! From cozy cafés to lakeside patios, here's where to eat when you're in town.\", name='duckduckgo_search', id='56ece038-ad09-471d-92e7-9d52807353c6', tool_call_id='call_Q90khuS5KOlFCvW65sl9yLUw'),\n",
       "  AIMessage(content=\"I'll now search for the means of transportation, activities...\", additional_kwargs={'refusal': None}, response_metadata={'token_usage': {'completion_tokens': 569, 'prompt_tokens': 900, 'total_tokens': 1469, 'completion_tokens_details': {'accepted_prediction_tokens': 0, 'audio_tokens': 0, 'reasoning_tokens': 512, 'rejected_prediction_tokens': 0}, 'prompt_tokens_details': {'audio_tokens': 0, 'cached_tokens': 0}}, 'model_name': 'o3-mini-2025-01-31', 'system_fingerprint': 'fp_e20469f047', 'id': 'chatcmpl-BjLN9Z1RE8xcC8ijRHgzarpXyja02', 'service_tier': 'default', 'finish_reason': 'stop', 'logprobs': None}, id='run--c04ed682-2f92-46fd-b3bd-a3648a326dd6-0', usage_metadata={'input_tokens': 900, 'output_tokens': 569, 'total_tokens': 1469, 'input_token_details': {'audio': 0, 'cache_read': 0}, 'output_token_details': {'audio': 0, 'reasoning': 512}})]}"
      ]
     },
     "execution_count": 20,
     "metadata": {},
     "output_type": "execute_result"
    }
   ],
   "source": [
    "response"
   ]
  },
  {
   "cell_type": "code",
   "execution_count": 81,
   "id": "af380502",
   "metadata": {},
   "outputs": [],
   "source": [
    "from langchain_community.utilities import GoogleSerperAPIWrapper, GooglePlacesAPIWrapper\n",
    "from langchain_community.tools import  DuckDuckGoSearchRun\n",
    "search_google_serp = GoogleSerperAPIWrapper()\n",
    "search_duckduck = DuckDuckGoSearchRun()\n"
   ]
  },
  {
   "cell_type": "code",
   "execution_count": null,
   "id": "a6f5905a",
   "metadata": {},
   "outputs": [
    {
     "data": {
      "text/plain": [
       "\"Super 8 by Wyndham West Kelowna BC Hotel | Best Affordable Hotel in West Kelowna This modern hotel in Kelowna provides complimentary Wi-Fi, a Jacuzzi and an indoor pool. It is a 10-minute drive from Quails' Gate Winery and offers free parking on site. This blog may contain affiliate links. Read our disclosure policy for more info. Kelowna is the gateway to the stunning Okanagan Valley, an area famed for its natural landscapes, hiking and biking trails, ski resorts (Big White is the big one here), and wineries.It's the largest city in the region and is on the edge of Okanagan Lake. Business Meets Pleasure: Kelowna's Best Hotels for Business Travellers. Blending the brisk efficiency of business with the leisurely pace of pleasure, Kelowna emerges as a prime spot for business travellers. ... 5505 Airport Way, Kelowna, BC V1V 3C3 Canada. Holiday Inn Express & Suites Kelowna - East. 1620 Powick Rd, Kelowna, BC V1X 7G5 Canada. Whether you're planning a weekend getaway, a business trip, or a staycation, finding the perfect place to stay makes all the difference. Kelowna is home to a variety of exceptional hotels, each ... Best Western Plus Kelowna Hotel & Suites. This hotel is located in British Columbia, a 10-minute drive from Kelowna International Airport. The hotel offers a restaurant, full-service spa, heated indoor pool with mineral water, gym and free Wi-Fi.\""
      ]
     },
     "execution_count": 80,
     "metadata": {},
     "output_type": "execute_result"
    }
   ],
   "source": [
    "search_duckduck.invoke('Best 3 hotels in Kelowna, canada')"
   ]
  },
  {
   "cell_type": "code",
   "execution_count": null,
   "id": "2eb472d1",
   "metadata": {},
   "outputs": [
    {
     "name": "stdout",
     "output_type": "stream",
     "text": [
      "('Are you on a budget? With Expedia, book now and pay later on most Cheap '\n",
      " 'Kelowna Hotels! Browse our selection of 33 cheap hotels in Kelowna and save '\n",
      " 'money on ... Missing: $150 | Show results with:$150. The 10 best hotels in '\n",
      " 'Kelowna ; Casa Loma BnbRank #1. $168-$183/night. 2769 Benedick Road ; '\n",
      " 'TownePlace Suites by Marriott West KelownaRank #2. $92-$404/night. Missing: '\n",
      " 'total | Show results with:total. Top Kelowna Cheap Hotels · Hotel Zed '\n",
      " 'Kelowna · Accent Inns Kelowna · Dilworth Inn · Recreation Inn & Suites · '\n",
      " 'University of British Columbia - UBC Okanagan Campus. Missing: $150 | Show '\n",
      " 'results with:$150. Search and compare 88 hotels in Kelowna for the best '\n",
      " 'hotel deals at momondo. Find the cheapest prices for luxury, boutique, or '\n",
      " 'budget hotels in Kelowna. Missing: total budget $150. To make the most of '\n",
      " \"your time in Kelowna, book a hotel that's right for you. We've collected \"\n",
      " \"some of the city's hottest hotels, from luxury to budget-friendly. Missing: \"\n",
      " 'total $150. Cheap Hotels in Kelowna · 1. Comfort Suites Kelowna · 2. Accent '\n",
      " 'Inn Kelowna · 3. Sandman Hotel & Suites Kelowna · 4. Best Western Plus '\n",
      " 'Kelowna ... Missing: $150 | Show results with:$150. Cheap Hotels in Kelowna '\n",
      " '· Days Inn by Wyndham Kelowna · Days Inn by Wyndham Kelowna · Coast Capri '\n",
      " 'Hotel · Coast Capri Hotel · Park Inn by Radisson, Kelowna · Park Inn ... '\n",
      " 'Missing: $150 | Show results with:$150. Check out the 14 budget-friendly '\n",
      " 'hotels in Kelowna to find a good deal. Days Inn by Wyndham Kelowna is a '\n",
      " 'hotel offering freebies like continental breakfast, ... Missing: $150 | Show '\n",
      " 'results with:$150. The average hotel price in Kelowna based on data from 46 '\n",
      " 'hotels is an affordable $169 with high season averages around $316, and the '\n",
      " 'median price is $150. The ... Located only 30 metres from Okanagan Lake, the '\n",
      " '3-star Royal Anne Hotel Kelowna offers 52 rooms along with a vending machine '\n",
      " 'and a lift onsite.')\n"
     ]
    }
   ],
   "source": [
    "import pprint\n",
    "result = search_google_serp.run('hotels in Kelowna in total budget of $150 for 2 nights')\n",
    "pprint.pp(result)"
   ]
  },
  {
   "cell_type": "markdown",
   "id": "76bed90d",
   "metadata": {},
   "source": [
    "### Check_Weather Class to get current weather forcast."
   ]
  },
  {
   "cell_type": "code",
   "execution_count": null,
   "id": "1bc4d48f",
   "metadata": {},
   "outputs": [],
   "source": [
    "\n",
    "class Check_Weather:\n",
    "    def __init__(self,api_key: str):\n",
    "        self.api_key = api_key\n",
    "        self.base_url = 'https://api.openweathermap.org/data/2.5'\n",
    "        \n",
    "    def get_weather(self, city: str) -> str:\n",
    "        ''' Get the current weather for a given city.'''\n",
    "        try:\n",
    "            self.url = f'{self.base_url}/weather?q={city}&units=metric&appid={self.api_key}'\n",
    "            response = requests.get(self.url)\n",
    "            return response.json()\n",
    "        except Exception as e:\n",
    "            print(f'Error: {str(e)}')\n",
    "            return {}\n",
    "        \n",
    "    def get_forecast(self, city: str) -> str:\n",
    "        ''' Get the weather forecast for a given city.'''\n",
    "        try:\n",
    "            days = 8\n",
    "            self.url = f'{self.base_url}/forecast?q={city}&cnt={days}&units=metric&appid={self.api_key}'\n",
    "            print(self.url)\n",
    "            response = requests.get(self.url)\n",
    "            return response.json()\n",
    "        except Exception as e:\n",
    "            print(f'Error: {str(e)}')\n",
    "            return {}\n",
    "    "
   ]
  },
  {
   "cell_type": "code",
   "execution_count": 50,
   "id": "06e46361",
   "metadata": {},
   "outputs": [],
   "source": [
    "weather_api_key = os.getenv('OPENWEATHERMAP_API_KEY')\n",
    "weather = Check_Weather(api_key = weather_api_key)\n"
   ]
  },
  {
   "cell_type": "code",
   "execution_count": 51,
   "id": "9c225b2c",
   "metadata": {},
   "outputs": [
    {
     "data": {
      "text/plain": [
       "{'coord': {'lon': -119.4857, 'lat': 49.8831},\n",
       " 'weather': [{'id': 800,\n",
       "   'main': 'Clear',\n",
       "   'description': 'clear sky',\n",
       "   'icon': '01n'}],\n",
       " 'base': 'stations',\n",
       " 'main': {'temp': 19.49,\n",
       "  'feels_like': 18.46,\n",
       "  'temp_min': 19.49,\n",
       "  'temp_max': 19.49,\n",
       "  'pressure': 1012,\n",
       "  'humidity': 37,\n",
       "  'sea_level': 1012,\n",
       "  'grnd_level': 903},\n",
       " 'visibility': 10000,\n",
       " 'wind': {'speed': 2.06, 'deg': 80},\n",
       " 'clouds': {'all': 0},\n",
       " 'dt': 1750229102,\n",
       " 'sys': {'type': 1,\n",
       "  'id': 852,\n",
       "  'country': 'CA',\n",
       "  'sunrise': 1750160927,\n",
       "  'sunset': 1750219748},\n",
       " 'timezone': -25200,\n",
       " 'id': 5990579,\n",
       " 'name': 'Kelowna',\n",
       " 'cod': 200}"
      ]
     },
     "execution_count": 51,
     "metadata": {},
     "output_type": "execute_result"
    }
   ],
   "source": [
    "result = weather.get_weather('Kelowna, Canada')\n",
    "result"
   ]
  },
  {
   "cell_type": "code",
   "execution_count": 52,
   "id": "ef458957",
   "metadata": {},
   "outputs": [
    {
     "name": "stdout",
     "output_type": "stream",
     "text": [
      "https://api.openweathermap.org/data/2.5/forecast?q=Kelowna&cnt=8&units=metric&appid=b9b9faa2b26cbccb37d5a2d1561ffdc0\n"
     ]
    },
    {
     "data": {
      "text/plain": [
       "{'cod': '200',\n",
       " 'message': 0,\n",
       " 'cnt': 8,\n",
       " 'list': [{'dt': 1750237200,\n",
       "   'main': {'temp': 17.55,\n",
       "    'feels_like': 16.51,\n",
       "    'temp_min': 13.67,\n",
       "    'temp_max': 17.55,\n",
       "    'pressure': 1011,\n",
       "    'sea_level': 1011,\n",
       "    'grnd_level': 903,\n",
       "    'humidity': 44,\n",
       "    'temp_kf': 3.88},\n",
       "   'weather': [{'id': 800,\n",
       "     'main': 'Clear',\n",
       "     'description': 'clear sky',\n",
       "     'icon': '01n'}],\n",
       "   'clouds': {'all': 1},\n",
       "   'wind': {'speed': 0.36, 'deg': 196, 'gust': 0.83},\n",
       "   'visibility': 10000,\n",
       "   'pop': 0,\n",
       "   'sys': {'pod': 'n'},\n",
       "   'dt_txt': '2025-06-18 09:00:00'},\n",
       "  {'dt': 1750248000,\n",
       "   'main': {'temp': 14.64,\n",
       "    'feels_like': 13.62,\n",
       "    'temp_min': 12.22,\n",
       "    'temp_max': 14.64,\n",
       "    'pressure': 1012,\n",
       "    'sea_level': 1012,\n",
       "    'grnd_level': 904,\n",
       "    'humidity': 56,\n",
       "    'temp_kf': 2.42},\n",
       "   'weather': [{'id': 800,\n",
       "     'main': 'Clear',\n",
       "     'description': 'clear sky',\n",
       "     'icon': '01d'}],\n",
       "   'clouds': {'all': 3},\n",
       "   'wind': {'speed': 0.68, 'deg': 219, 'gust': 0.9},\n",
       "   'visibility': 10000,\n",
       "   'pop': 0,\n",
       "   'sys': {'pod': 'd'},\n",
       "   'dt_txt': '2025-06-18 12:00:00'},\n",
       "  {'dt': 1750258800,\n",
       "   'main': {'temp': 18.4,\n",
       "    'feels_like': 17.58,\n",
       "    'temp_min': 18.4,\n",
       "    'temp_max': 18.4,\n",
       "    'pressure': 1012,\n",
       "    'sea_level': 1012,\n",
       "    'grnd_level': 904,\n",
       "    'humidity': 49,\n",
       "    'temp_kf': 0},\n",
       "   'weather': [{'id': 800,\n",
       "     'main': 'Clear',\n",
       "     'description': 'clear sky',\n",
       "     'icon': '01d'}],\n",
       "   'clouds': {'all': 3},\n",
       "   'wind': {'speed': 0.52, 'deg': 206, 'gust': 0.85},\n",
       "   'visibility': 10000,\n",
       "   'pop': 0,\n",
       "   'sys': {'pod': 'd'},\n",
       "   'dt_txt': '2025-06-18 15:00:00'},\n",
       "  {'dt': 1750269600,\n",
       "   'main': {'temp': 23.25,\n",
       "    'feels_like': 22.44,\n",
       "    'temp_min': 23.25,\n",
       "    'temp_max': 23.25,\n",
       "    'pressure': 1009,\n",
       "    'sea_level': 1009,\n",
       "    'grnd_level': 902,\n",
       "    'humidity': 31,\n",
       "    'temp_kf': 0},\n",
       "   'weather': [{'id': 800,\n",
       "     'main': 'Clear',\n",
       "     'description': 'clear sky',\n",
       "     'icon': '01d'}],\n",
       "   'clouds': {'all': 5},\n",
       "   'wind': {'speed': 0.31, 'deg': 292, 'gust': 3},\n",
       "   'visibility': 10000,\n",
       "   'pop': 0,\n",
       "   'sys': {'pod': 'd'},\n",
       "   'dt_txt': '2025-06-18 18:00:00'},\n",
       "  {'dt': 1750280400,\n",
       "   'main': {'temp': 27.19,\n",
       "    'feels_like': 26.23,\n",
       "    'temp_min': 27.19,\n",
       "    'temp_max': 27.19,\n",
       "    'pressure': 1005,\n",
       "    'sea_level': 1005,\n",
       "    'grnd_level': 899,\n",
       "    'humidity': 21,\n",
       "    'temp_kf': 0},\n",
       "   'weather': [{'id': 802,\n",
       "     'main': 'Clouds',\n",
       "     'description': 'scattered clouds',\n",
       "     'icon': '03d'}],\n",
       "   'clouds': {'all': 25},\n",
       "   'wind': {'speed': 3.07, 'deg': 200, 'gust': 5.32},\n",
       "   'visibility': 10000,\n",
       "   'pop': 0,\n",
       "   'sys': {'pod': 'd'},\n",
       "   'dt_txt': '2025-06-18 21:00:00'},\n",
       "  {'dt': 1750291200,\n",
       "   'main': {'temp': 21.84,\n",
       "    'feels_like': 21.83,\n",
       "    'temp_min': 21.84,\n",
       "    'temp_max': 21.84,\n",
       "    'pressure': 1008,\n",
       "    'sea_level': 1008,\n",
       "    'grnd_level': 900,\n",
       "    'humidity': 67,\n",
       "    'temp_kf': 0},\n",
       "   'weather': [{'id': 500,\n",
       "     'main': 'Rain',\n",
       "     'description': 'light rain',\n",
       "     'icon': '10d'}],\n",
       "   'clouds': {'all': 59},\n",
       "   'wind': {'speed': 2.59, 'deg': 138, 'gust': 4.03},\n",
       "   'visibility': 10000,\n",
       "   'pop': 0.2,\n",
       "   'rain': {'3h': 0.38},\n",
       "   'sys': {'pod': 'd'},\n",
       "   'dt_txt': '2025-06-19 00:00:00'},\n",
       "  {'dt': 1750302000,\n",
       "   'main': {'temp': 19.4,\n",
       "    'feels_like': 18.83,\n",
       "    'temp_min': 19.4,\n",
       "    'temp_max': 19.4,\n",
       "    'pressure': 1009,\n",
       "    'sea_level': 1009,\n",
       "    'grnd_level': 901,\n",
       "    'humidity': 55,\n",
       "    'temp_kf': 0},\n",
       "   'weather': [{'id': 500,\n",
       "     'main': 'Rain',\n",
       "     'description': 'light rain',\n",
       "     'icon': '10d'}],\n",
       "   'clouds': {'all': 100},\n",
       "   'wind': {'speed': 1.64, 'deg': 279, 'gust': 4.53},\n",
       "   'visibility': 10000,\n",
       "   'pop': 0.44,\n",
       "   'rain': {'3h': 0.33},\n",
       "   'sys': {'pod': 'd'},\n",
       "   'dt_txt': '2025-06-19 03:00:00'},\n",
       "  {'dt': 1750312800,\n",
       "   'main': {'temp': 12.29,\n",
       "    'feels_like': 11.35,\n",
       "    'temp_min': 12.29,\n",
       "    'temp_max': 12.29,\n",
       "    'pressure': 1013,\n",
       "    'sea_level': 1013,\n",
       "    'grnd_level': 904,\n",
       "    'humidity': 68,\n",
       "    'temp_kf': 0},\n",
       "   'weather': [{'id': 803,\n",
       "     'main': 'Clouds',\n",
       "     'description': 'broken clouds',\n",
       "     'icon': '04n'}],\n",
       "   'clouds': {'all': 53},\n",
       "   'wind': {'speed': 1.39, 'deg': 277, 'gust': 1.22},\n",
       "   'visibility': 10000,\n",
       "   'pop': 0.18,\n",
       "   'sys': {'pod': 'n'},\n",
       "   'dt_txt': '2025-06-19 06:00:00'}],\n",
       " 'city': {'id': 5990579,\n",
       "  'name': 'Kelowna',\n",
       "  'coord': {'lat': 49.8831, 'lon': -119.4857},\n",
       "  'country': 'CA',\n",
       "  'population': 125109,\n",
       "  'timezone': -25200,\n",
       "  'sunrise': 1750160927,\n",
       "  'sunset': 1750219748}}"
      ]
     },
     "execution_count": 52,
     "metadata": {},
     "output_type": "execute_result"
    }
   ],
   "source": [
    "weather.get_forecast('Kelowna')"
   ]
  },
  {
   "cell_type": "markdown",
   "id": "481f148f",
   "metadata": {},
   "source": [
    "## Currency Convertion using https://frankfurter.dev/"
   ]
  },
  {
   "cell_type": "code",
   "execution_count": 66,
   "id": "467eb1c0",
   "metadata": {},
   "outputs": [],
   "source": [
    "\n",
    "class Currency_Converter:\n",
    "    \n",
    "    def __init__(self):\n",
    "        self.base_url = 'https://api.frankfurter.dev/v1/latest'\n",
    "        \n",
    "    def convert_currency(self, from_currency: str, to_currency: str, amount:float) -> float:\n",
    "        ''' Convert currency from one to another.'''\n",
    "        try:\n",
    "            url = f'{self.base_url}?amount={amount}&from={from_currency}&to={to_currency}'\n",
    "            response = requests.get(url)\n",
    "            result = response.json()\n",
    "            return result['rates']\n",
    "        except Exception as e:\n",
    "            print(f'Error: {str(e)}')\n",
    "            return None\n",
    "        "
   ]
  },
  {
   "cell_type": "code",
   "execution_count": 67,
   "id": "6bea7a77",
   "metadata": {},
   "outputs": [
    {
     "data": {
      "text/plain": [
       "{'INR': 31801}"
      ]
     },
     "execution_count": 67,
     "metadata": {},
     "output_type": "execute_result"
    }
   ],
   "source": [
    "converter = Currency_Converter()\n",
    "converter.convert_currency('CAD','INR', 500)"
   ]
  },
  {
   "cell_type": "markdown",
   "id": "2d4b5755",
   "metadata": {},
   "source": [
    "## Calculator for expense calculations"
   ]
  },
  {
   "cell_type": "code",
   "execution_count": 82,
   "id": "64929d88",
   "metadata": {},
   "outputs": [],
   "source": [
    "class Calculator:\n",
    "    \n",
    "    @staticmethod\n",
    "    def add(a: float, b:float) -> float:\n",
    "        '''\n",
    "        Add two numbers.\n",
    "        \n",
    "        Args:\n",
    "            a (float): First number.\n",
    "            b (float): Second number.\n",
    "        Returns:\n",
    "            float: Sum of a and b.\n",
    "        '''\n",
    "        return a + b\n",
    "    \n",
    "    @staticmethod\n",
    "    def multiply(a: float, b:float) -> float:\n",
    "        '''\n",
    "        Multiply two numbers.\n",
    "        \n",
    "        Args:\n",
    "            a (float): First number.\n",
    "            b (float): Second number.\n",
    "        Returns:\n",
    "            float: Product of a and b.\n",
    "        '''\n",
    "        return a * b\n",
    "    \n",
    "    @staticmethod \n",
    "    def calculate_total_cost(*costs: float) -> float:\n",
    "        '''\n",
    "        Calculate the total cost from a list of costs.\n",
    "        \n",
    "        Args:\n",
    "            *costs (float): List of costs to be summed up.\n",
    "        Returns:\n",
    "            float: Total cost.\n",
    "        '''\n",
    "        return sum(costs)\n",
    "    \n",
    "    @staticmethod\n",
    "    def calculate_daily_budget(total_cost: float, days: int) -> float:\n",
    "        '''\n",
    "        Calculate the daily budget based on total cost and number of days.\n",
    "        Args:\n",
    "            total_cost (float): Total cost of the trip.\n",
    "            days (int): Number of days for the trip.\n",
    "        Returns:\n",
    "            float: Daily budget for the trip.\n",
    "        '''\n",
    "        return total_cost / days if days > 0 else 0\n",
    "    "
   ]
  },
  {
   "cell_type": "code",
   "execution_count": null,
   "id": "aad4884f",
   "metadata": {},
   "outputs": [],
   "source": [
    "sum"
   ]
  }
 ],
 "metadata": {
  "kernelspec": {
   "display_name": "Python 3",
   "language": "python",
   "name": "python3"
  },
  "language_info": {
   "codemirror_mode": {
    "name": "ipython",
    "version": 3
   },
   "file_extension": ".py",
   "mimetype": "text/x-python",
   "name": "python",
   "nbconvert_exporter": "python",
   "pygments_lexer": "ipython3",
   "version": "3.12.0"
  }
 },
 "nbformat": 4,
 "nbformat_minor": 5
}
