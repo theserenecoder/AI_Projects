{
 "cells": [
  {
   "cell_type": "markdown",
   "id": "22a2ce43",
   "metadata": {},
   "source": [
    "## MultiModal RAG Agent with Tavily\n",
    "\n",
    "#### RAG Data Ingestion"
   ]
  },
  {
   "cell_type": "code",
   "execution_count": 1,
   "id": "215f751d",
   "metadata": {},
   "outputs": [
    {
     "name": "stderr",
     "output_type": "stream",
     "text": [
      "c:\\Users\\ashut\\OneDrive\\Documents\\study material\\Agentic_AI_Krish\\Projects\\MultiModel RAG\\venv\\Lib\\site-packages\\tqdm\\auto.py:21: TqdmWarning: IProgress not found. Please update jupyter and ipywidgets. See https://ipywidgets.readthedocs.io/en/stable/user_install.html\n",
      "  from .autonotebook import tqdm as notebook_tqdm\n"
     ]
    }
   ],
   "source": [
    "from dotenv import load_dotenv\n",
    "load_dotenv()\n",
    "from unstructured.partition.pdf import partition_pdf\n",
    "import os\n",
    "from langchain_openai import ChatOpenAI\n",
    "from langchain.prompts import ChatPromptTemplate, PromptTemplate\n",
    "from langchain_core.output_parsers import StrOutputParser\n",
    "import uuid\n",
    "from langchain_astradb import AstraDBVectorStore\n",
    "from langchain.storage import InMemoryStore\n",
    "from langchain_core.documents import Document\n",
    "from langchain.embeddings import OpenAIEmbeddings\n",
    "from langchain.retrievers.multi_vector import MultiVectorRetriever\n",
    "from pydantic import BaseModel, Field\n",
    "from typing import Annotated, TypedDict, Literal\n",
    "from langchain_core.messages import BaseMessage\n",
    "from langgraph.graph import StateGraph, START, END\n",
    "from langgraph.graph.message import  AnyMessage, add_messages\n",
    "import operator\n",
    "from langgraph.prebuilt import ToolNode, tools_condition\n",
    "from langchain_community.tools.tavily_search import TavilySearchResults\n",
    "from langchain.output_parsers import PydanticOutputParser\n",
    "import warnings\n",
    "from langchain_core.runnables import RunnablePassthrough, RunnableLambda\n",
    "from langchain_core.messages import SystemMessage, HumanMessage\n",
    "from base64 import b64decode\n",
    "warnings.filterwarnings('ignore')"
   ]
  },
  {
   "cell_type": "code",
   "execution_count": 2,
   "id": "f7b469ca",
   "metadata": {},
   "outputs": [],
   "source": [
    "## Document Loading and Chunking\n",
    "\n",
    "file_path = 'content//attention.pdf'\n",
    "\n",
    "def partition_and_chunk(file_path):\n",
    "    \"\"\"Partitions and chunks a PDF file into manageable pieces. \"\"\"\n",
    "    \n",
    "    chunks = partition_pdf(\n",
    "        filename=file_path,\n",
    "        strategy='hi_res',\n",
    "        infer_table_structure=True,\n",
    "        \n",
    "        extract_image_block_types=['Image'],\n",
    "        extract_image_block_to_payload=True,\n",
    "        \n",
    "        chunking_strategy='by_title',\n",
    "        max_characters = 2000,\n",
    "        combine_text_under_n_chars = 500,\n",
    "        new_after_n_chars = 6000,\n",
    "    )\n",
    "    \n",
    "    return chunks"
   ]
  },
  {
   "cell_type": "code",
   "execution_count": 3,
   "id": "773e8534",
   "metadata": {},
   "outputs": [
    {
     "name": "stderr",
     "output_type": "stream",
     "text": [
      "The `max_size` parameter is deprecated and will be removed in v4.26. Please specify in `size['longest_edge'] instead`.\n"
     ]
    }
   ],
   "source": [
    "chunks = partition_and_chunk(file_path)"
   ]
  },
  {
   "cell_type": "code",
   "execution_count": 4,
   "id": "6d08fe60",
   "metadata": {},
   "outputs": [],
   "source": [
    "## Extract text\n",
    "texts = [chunk for chunk in chunks if 'CompositeElement' in str(type(chunk))]\n",
    "## getting base64 object of image\n",
    "images = [ el.metadata.image_base64 for chunk in chunks for el in chunk.metadata.orig_elements if 'Image' in str(type(el)) ]"
   ]
  },
  {
   "cell_type": "code",
   "execution_count": 5,
   "id": "f2da6931",
   "metadata": {},
   "outputs": [],
   "source": [
    "prompt_text = '''\n",
    "You are an assistant tasked with summarizing tables and text.\n",
    "Give a concise summary of the table or text.\n",
    "\n",
    "Respond only with the summary, no additional comment.\n",
    "Do not start your message by saying \"Here is a summary\" or anything similar.\n",
    "just give the summary as it is.\n",
    "\n",
    "Table or text chunk: {element}\n",
    "'''\n",
    "\n",
    "prompt_image = \"\"\"Describe the image in detail. Be specific about the architecture, graphs, plots such as bar plot\"\"\"\n",
    "image_message = [\n",
    "    (\n",
    "        \"user\",\n",
    "        [\n",
    "         {'type':'text', 'text':prompt_image},\n",
    "         {'type':'image_url','image_url':{'url':'data:image/jpeg;base64,{image}'},}, \n",
    "        ]\n",
    "    )\n",
    "]\n",
    "\n",
    "llm = ChatOpenAI(model = 'gpt-4o-mini')"
   ]
  },
  {
   "cell_type": "code",
   "execution_count": 6,
   "id": "fca12c0f",
   "metadata": {},
   "outputs": [],
   "source": [
    "## get summary of text and images\n",
    "def summary_for_vs(chunks, texts = texts, images = images):\n",
    "    \n",
    "    image_prompt_template = ChatPromptTemplate.from_messages(image_message)\n",
    "    image_chain = image_prompt_template | llm | StrOutputParser()\n",
    "    \n",
    "    text_prompy_template = ChatPromptTemplate.from_template(prompt_text)\n",
    "    text_chain = text_prompy_template | llm | StrOutputParser()\n",
    "    \n",
    "    text_summary = text_chain.batch(texts)\n",
    "    image_summary = image_chain.batch(images)\n",
    "    \n",
    "    return text_summary,image_summary\n",
    "    "
   ]
  },
  {
   "cell_type": "code",
   "execution_count": 7,
   "id": "1f6e6a23",
   "metadata": {},
   "outputs": [],
   "source": [
    "text_summary, image_summary = summary_for_vs(chunks)"
   ]
  },
  {
   "cell_type": "code",
   "execution_count": 8,
   "id": "4ad62141",
   "metadata": {},
   "outputs": [],
   "source": [
    "token = os.getenv('ASTRA_DB_APPLICATION_TOKEN')\n",
    "namespace = os.getenv('ASTRA_DB_KEYSPACE')\n",
    "endpoint = os.getenv('ASTRA_DB_API_ENDPOINT')\n",
    "embedding = OpenAIEmbeddings(model=\"text-embedding-3-small\")"
   ]
  },
  {
   "cell_type": "code",
   "execution_count": 9,
   "id": "3f6192c6",
   "metadata": {},
   "outputs": [],
   "source": [
    "## The vector store to index the summary chunks\n",
    "vector_store = AstraDBVectorStore(\n",
    "    embedding=embedding,\n",
    "    collection_name=\"RAG_Graph\",\n",
    "    api_endpoint=endpoint,\n",
    "    token=token,\n",
    "    namespace=namespace,\n",
    ")\n",
    "\n",
    "## The storage layer for the parent documents\n",
    "store = InMemoryStore()\n",
    "id_key = \"doc_id\"\n",
    "\n",
    "## The retriever (empty to start)\n",
    "retriever = MultiVectorRetriever(\n",
    "    vectorstore=vector_store,  ## The vector store to index the summary chunks\n",
    "    docstore=store,            ## The storage layer for the parent documents\n",
    "    id_key=id_key,\n",
    ")\n"
   ]
  },
  {
   "cell_type": "code",
   "execution_count": 10,
   "id": "e825d487",
   "metadata": {},
   "outputs": [],
   "source": [
    "## adding image summries\n",
    "def loading_summaries_to_vector_store(retriever, chunks, chunk_summary):\n",
    "    \"\"\"\n",
    "        Generate ids for each chunk, create langchain document object for each summry chunk.\n",
    "        Indexing the summary in vector store and document in docsotre.\n",
    "    \"\"\"\n",
    "    ## generate unique id for each chunk\n",
    "    doc_ids = [str(uuid.uuid4()) for _ in chunks]\n",
    "    ## Creating Langchain Document objects for each text_summary chunk\n",
    "    summary_texts = [Document(page_content=summary,metadata={id_key:doc_ids[i]}) for i,summary in enumerate(chunk_summary)]\n",
    "    \n",
    "    ## indexing the documents in vector store and document store\n",
    "    retriever.vectorstore.add_documents(summary_texts)\n",
    "    retriever.docstore.mset(list(zip(doc_ids,chunks)))"
   ]
  },
  {
   "cell_type": "code",
   "execution_count": 11,
   "id": "5981ab07",
   "metadata": {},
   "outputs": [],
   "source": [
    "## adding text summaries to vector store and document store\n",
    "loading_summaries_to_vector_store(retriever,texts,text_summary)\n",
    "## adding image summaries to vector store and document store\n",
    "loading_summaries_to_vector_store(retriever,images,image_summary)\n",
    "## Now the retriever is ready to use"
   ]
  },
  {
   "cell_type": "markdown",
   "id": "e95796a9",
   "metadata": {},
   "source": [
    "## Agent"
   ]
  },
  {
   "cell_type": "code",
   "execution_count": 12,
   "id": "79e26618",
   "metadata": {},
   "outputs": [],
   "source": [
    "## Creating Pydantic class\n",
    "\n",
    "class RouterCall_Output(BaseModel):\n",
    "    Topic: Literal['Related','Not Related'] = Field(description=\"Classification of the user query: 'Related' to LLM/Transformer, or 'Not Related'.\")\n",
    "    Reasoning: str = Field(description='Reasoning behind topic selection')\n",
    "    \n",
    "parser = PydanticOutputParser(pydantic_object=RouterCall_Output)"
   ]
  },
  {
   "cell_type": "code",
   "execution_count": 13,
   "id": "272e0ed3",
   "metadata": {},
   "outputs": [],
   "source": [
    "## State class\n",
    "class State(TypedDict):\n",
    "    messages : Annotated[list[BaseMessage], operator.add]"
   ]
  },
  {
   "cell_type": "code",
   "execution_count": 14,
   "id": "403ed5f2",
   "metadata": {},
   "outputs": [],
   "source": [
    "## Supervisor Function\n",
    "def supervisor(state:State):\n",
    "    \n",
    "    question = state['messages'][-1]\n",
    "    print(question)\n",
    "    \n",
    "    template = '''\n",
    "    You are an expert in routing. Your task is to classify the given user query based on its intent:\n",
    "    - 'Related': If the query is directly about LLMs or Transformer architecture, requiring internal knowledge/RAG.\n",
    "    - 'Not Related': If the query is simple, conversational, requires external real-time information (which the LLM might search for), or can be answered by a general LLM.\n",
    "\n",
    "    Provide a brief reasoning for your classification.\n",
    "\n",
    "    User query: {question}\n",
    "    {format_instructions}\n",
    "    '''\n",
    "    \n",
    "    prompt = PromptTemplate(\n",
    "        template=template,\n",
    "        input_variables=['question'],\n",
    "        partial_variables={'format_instructions':parser.get_format_instructions()}\n",
    "    )\n",
    "    \n",
    "    chain = prompt | llm | parser\n",
    "    response = chain.invoke({'question':question})\n",
    "    print(\"Parsed response:\", response)\n",
    "    \n",
    "    return {'messages':[response.Topic]}"
   ]
  },
  {
   "cell_type": "code",
   "execution_count": 15,
   "id": "130829ca",
   "metadata": {},
   "outputs": [],
   "source": [
    "## RAG Function\n",
    "def rag_function(state:State):\n",
    "    print('-->RAG-->')\n",
    "    \n",
    "    question = state['messages'][0]\n",
    "    \n",
    "    def parse_doc(docs):\n",
    "        '''Parses the retrieved documents to return a dictionary with text and images'''\n",
    "        image_docs = []\n",
    "        text_docs = []\n",
    "        for doc in docs:\n",
    "            try:\n",
    "                b64decode(doc)\n",
    "                image_docs.append(doc)\n",
    "            except Exception as e:\n",
    "                text_docs.append(doc)\n",
    "        return {'images': image_docs,'texts':text_docs}\n",
    "    \n",
    "    def built_prompt(kwargs):\n",
    "        '''Builds the prompt for the model using the context and question.'''\n",
    "        \n",
    "\n",
    "        docs_by_type = kwargs['context']\n",
    "        user_question = kwargs['question']\n",
    "        \n",
    "        ## concatenate all the text\n",
    "        context_text = ''\n",
    "        if len(docs_by_type['texts'])>0:\n",
    "            for el in docs_by_type['texts']:\n",
    "                context_text += el.text\n",
    "        \n",
    "        prompt_template = f'''\n",
    "        Answer the question based on following cotext, which can include text and images.\n",
    "        Context : {context_text}\n",
    "        Question : {user_question}'''\n",
    "        \n",
    "        prompt_content = [{'type':'text', 'text':prompt_template}]\n",
    "        \n",
    "        if len(docs_by_type['images'])>0:\n",
    "            for img in docs_by_type['images']:\n",
    "                prompt_content.append(\n",
    "                    {'type':'image_url','image_url':{'url':f'data:image/jpeg;base64,{img}'}},\n",
    "                )\n",
    "\n",
    "        ## return prompt\n",
    "        return ChatPromptTemplate.from_messages([HumanMessage(content=prompt_content)])\n",
    "\n",
    "    \n",
    "    chain = (\n",
    "        {'context': retriever | RunnableLambda(parse_doc), 'question':RunnablePassthrough()}\n",
    "        |RunnableLambda(built_prompt)\n",
    "        |llm\n",
    "        |StrOutputParser()\n",
    "        \n",
    "    )\n",
    "    result = chain.invoke(question)\n",
    "    return {'messages':[result]}"
   ]
  },
  {
   "cell_type": "code",
   "execution_count": 16,
   "id": "ef63339f",
   "metadata": {},
   "outputs": [],
   "source": [
    "tavily_tool = TavilySearchResults(max_results=3)\n",
    "## Binding tavily tool with llm\n",
    "llm_with_tool = llm.bind_tools([tavily_tool])\n",
    "## ToolNode runs the tools which are called in last AIMessage\n",
    "## If there are multiple tools called, it will run in parallel\n",
    "tool_call = ToolNode([tavily_tool])\n",
    "\n",
    "def llm_function(state:State):\n",
    "    print('-->LLM Call-->')\n",
    "    question = state['messages']\n",
    "    \n",
    "    print(question)\n",
    "\n",
    "    complete_query = f'''\n",
    "    You are an helpful assistant. Answer the question with with best of your knowledge. Following is the user question: {question}\n",
    "    '''\n",
    "    \n",
    "    response = llm_with_tool.invoke(complete_query)\n",
    "\n",
    "    return {'messages':[response]}"
   ]
  },
  {
   "cell_type": "code",
   "execution_count": 42,
   "id": "4cf8c343",
   "metadata": {},
   "outputs": [],
   "source": [
    "## Validation Node\n",
    "def validation_node(state: State):\n",
    "    print('--> Validation <--')\n",
    "    \n",
    "    question = state['messages'][0]\n",
    "    response_content = state['messages'][-1]\n",
    "    \n",
    "    validation_input = {\n",
    "        'question' : question,\n",
    "        'response_content':response_content\n",
    "    }\n",
    "    print(validation_input)\n",
    "    \n",
    "    validation_prompt = ChatPromptTemplate.from_messages(\n",
    "    [\n",
    "        (\"system\", \n",
    "        \"\"\"You are a validation AI. Your task is to evaluate the generated response against the original question.\n",
    "            Determine if the response is:\n",
    "                - 'pass': The response adequately answers the user question.\n",
    "                - 'fail': The response is irrelevant, incomplete, contradictory, clearly hallucinated, or otherwise unsuitable.\n",
    "            Provide only one of the following keywords as your output: pass, fail.\n",
    "        \"\"\"),\n",
    "        (\"user\", \n",
    "         \"Original Question: {question}\\n\\nGenerated Response: {response_content}\\n\\n\"),\n",
    "])\n",
    "    \n",
    "    chain = validation_prompt | llm | StrOutputParser()\n",
    "    result = chain.invoke(validation_input)\n",
    "    \n",
    "    validation_status = result.strip().lower()\n",
    "    #print(f'\\nValidation Status: {validation_status}')\n",
    "    \n",
    "    if validation_status=='pass':\n",
    "        return {'messages':['pass']}\n",
    "    else:\n",
    "        return {'messages':['fail']}"
   ]
  },
  {
   "cell_type": "markdown",
   "id": "90c19981",
   "metadata": {},
   "source": [
    "### Router"
   ]
  },
  {
   "cell_type": "code",
   "execution_count": 35,
   "id": "ca392466",
   "metadata": {},
   "outputs": [],
   "source": [
    "## Router function\n",
    "def router(state: State):\n",
    "    print('-->Router-->')\n",
    "    \n",
    "    last_message = state['messages'][-1]\n",
    "    print(\"last_message: \",last_message,'\\n')\n",
    "    \n",
    "    if  last_message == 'Related':\n",
    "        return 'RAG Call'\n",
    "    else:\n",
    "        return 'LLM Call'\n",
    "    \n",
    "## Validation Router\n",
    "def validation_router(state:State):\n",
    "    print('--> Validation Router <--')\n",
    "    \n",
    "    last_message = state['messages'][-1]\n",
    "    print(f'Validation Status: {last_message}')\n",
    "    \n",
    "    if last_message == 'pass':\n",
    "        return END\n",
    "    else:\n",
    "        return 'Supervisor Call'\n",
    "    \n",
    "\n",
    "def tools_condition(state: State):\n",
    "    print('-->Tools Condition Router<--')\n",
    "    \n",
    "    ai_message = state['messages']\n",
    "\n",
    "    if ai_message[-1].tool_calls:\n",
    "        return 'tools'\n",
    "    else:\n",
    "        return 'Validation'"
   ]
  },
  {
   "cell_type": "code",
   "execution_count": 43,
   "id": "c7d63e8f",
   "metadata": {},
   "outputs": [
    {
     "data": {
      "image/png": "[encoded data removed]",
      "text/plain": [
       "<langgraph.graph.state.CompiledStateGraph object at 0x000001B834917C80>"
      ]
     },
     "execution_count": 43,
     "metadata": {},
     "output_type": "execute_result"
    }
   ],
   "source": [
    "## Create Graph\n",
    "build = StateGraph(State)\n",
    "build.add_node('Supervisor',supervisor)\n",
    "build.add_node('LLM',llm_function)\n",
    "build.add_node('tools',tool_call)\n",
    "build.add_node('RAG', rag_function)\n",
    "build.add_node('Validation', validation_node)\n",
    "\n",
    "build.add_edge(START, 'Supervisor')\n",
    "build.add_conditional_edges(\n",
    "    \"Supervisor\",\n",
    "    router,\n",
    "    {\n",
    "        'RAG Call':'RAG',\n",
    "        'LLM Call':'LLM'\n",
    "    }\n",
    ")\n",
    "build.add_conditional_edges(\n",
    "    'LLM',\n",
    "    tools_condition,\n",
    "    {\n",
    "        'tools':'tools',\n",
    "        'Validation':'Validation'\n",
    "    }\n",
    ")\n",
    "build.add_edge('tools','LLM')\n",
    "build.add_edge('RAG','Validation')\n",
    "build.add_conditional_edges(\n",
    "    'Validation',\n",
    "    validation_router,\n",
    "    {\n",
    "        END : END,\n",
    "        'Supervisor Call': 'Supervisor'\n",
    "    }\n",
    ")\n",
    "#build.add_edge('LLM','Validation')\n",
    "#build.add_edge('LLM',END)\n",
    "app = build.compile()\n",
    "app"
   ]
  },
  {
   "cell_type": "code",
   "execution_count": 44,
   "id": "bcb8c34e",
   "metadata": {},
   "outputs": [
    {
     "name": "stdout",
     "output_type": "stream",
     "text": [
      "What is langchain\n",
      "Parsed response: Topic='Not Related' Reasoning=\"The query 'What is langchain' seems to seek basic information about a tool or framework, rather than specifically engaging with LLMs or Transformer architecture.\"\n",
      "-->Router-->\n",
      "last_message:  Not Related \n",
      "\n",
      "-->LLM Call-->\n",
      "['What is langchain', 'Not Related']\n",
      "-->Tools Condition Router<--\n",
      "-->LLM Call-->\n",
      "['What is langchain', 'Not Related', AIMessage(content='', additional_kwargs={'tool_calls': [{'id': 'call_KqZBOjpDbzYrQWts3GfiJyQi', 'function': {'arguments': '{\"query\":\"What is langchain\"}', 'name': 'tavily_search_results_json'}, 'type': 'function'}], 'refusal': None}, response_metadata={'token_usage': {'completion_tokens': 21, 'prompt_tokens': 114, 'total_tokens': 135, 'completion_tokens_details': {'accepted_prediction_tokens': 0, 'audio_tokens': 0, 'reasoning_tokens': 0, 'rejected_prediction_tokens': 0}, 'prompt_tokens_details': {'audio_tokens': 0, 'cached_tokens': 0}}, 'model_name': 'gpt-4o-mini-2024-07-18', 'system_fingerprint': 'fp_34a54ae93c', 'id': 'chatcmpl-BiAFNuaqA4hZjMoZRx2sc9sIdHqyA', 'service_tier': 'default', 'finish_reason': 'tool_calls', 'logprobs': None}, id='run--4da3599c-53f2-4058-ad05-31ebbf35fd87-0', tool_calls=[{'name': 'tavily_search_results_json', 'args': {'query': 'What is langchain'}, 'id': 'call_KqZBOjpDbzYrQWts3GfiJyQi', 'type': 'tool_call'}], usage_metadata={'input_tokens': 114, 'output_tokens': 21, 'total_tokens': 135, 'input_token_details': {'audio': 0, 'cache_read': 0}, 'output_token_details': {'audio': 0, 'reasoning': 0}}), ToolMessage(content='[{\"title\": \"LangChain - Wikipedia\", \"url\": \"https://en.wikipedia.org/wiki/LangChain\", \"content\": \"**LangChain** is a [software framework](https://en.wikipedia.org/wiki/Software_framework \\\\\"Software framework\\\\\") that helps facilitate the integration of [large language models](https://en.wikipedia.org/wiki/Large_language_model \\\\\"Large language model\\\\\") (LLMs) into applications. As a language model integration framework, LangChain\\'s use-cases largely overlap with those of language models in general, including document analysis and\", \"score\": 0.9377661}, {\"title\": \"What Is LangChain? | IBM\", \"url\": \"https://www.ibm.com/think/topics/langchain\", \"content\": \"LangChain is an open source orchestration framework for application development using [large language models (LLMs)](https://www.ibm.com/think/topics/open-source-llms). Available in both Python- and Javascript-based libraries, LangChain’s tools and [APIs](https://www.ibm.com/think/topics/api) simplify the process of building LLM-driven applications like [chatbots](https://www.ibm.com/think/topics/chatbots) and [AI agents](https://www.ibm.com/think/topics/ai-agents). [...] LangChain is essentially a library of abstractions for Python and Javascript, representing common steps and concepts necessary to work with language models. These modular components—like functions and object classes—serve as the building blocks of generative AI programs. They can be “_chained_” together to create applications, minimizing the amount of code and fine understanding required to execute complex NLP tasks. Though LangChain’s abstracted approach may limit the extent to which an expert [...] ### LangGraph\\\\n\\\\n[LangGraph](https://www.ibm.com/think/topics/langgraph), created by LangChain,is an open source AI agent framework that supports multi-agent orchestration and enables developers to build[agentic workflows](https://www.ibm.com/think/topics/agentic-workflows)where different agents interact, specialize and collaborate.\", \"score\": 0.92491204}, {\"title\": \"What is LangChain? - AWS\", \"url\": \"https://aws.amazon.com/what-is/langchain/\", \"content\": \"LangChain is an open source framework for building applications based on large language models (LLMs). LLMs are large deep-learning models pre-trained on large amounts of data that can generate responses to user queries—for example, answering questions or creating images from text-based prompts. LangChain provides tools and abstractions to improve the customization, accuracy, and relevancy of the information the models generate. For example, developers can use LangChain components to build new [...] Using Amazon Bedrock, Amazon Kendra, Amazon SageMaker JumpStart, LangChain, and your LLMs, you can build highly-accurate generative artificial intelligence (generative AI) applications on enterprise data. LangChain is the interface that ties these components together: [...] ### **LLM interface**\\\\n\\\\nLangChain provides APIs with which developers can connect and query LLMs from their code. Developers can interface with public and proprietary models like GPT, Bard, and PaLM with LangChain by making simple API calls instead of writing complex code.\\\\n\\\\n### **Prompt templates**\", \"score\": 0.9245858}]', name='tavily_search_results_json', tool_call_id='call_KqZBOjpDbzYrQWts3GfiJyQi', artifact={'query': 'What is langchain', 'follow_up_questions': None, 'answer': None, 'images': [], 'results': [{'url': 'https://en.wikipedia.org/wiki/LangChain', 'title': 'LangChain - Wikipedia', 'content': '**LangChain** is a [software framework](https://en.wikipedia.org/wiki/Software_framework \"Software framework\") that helps facilitate the integration of [large language models](https://en.wikipedia.org/wiki/Large_language_model \"Large language model\") (LLMs) into applications. As a language model integration framework, LangChain\\'s use-cases largely overlap with those of language models in general, including document analysis and', 'score': 0.9377661, 'raw_content': None}, {'url': 'https://www.ibm.com/think/topics/langchain', 'title': 'What Is LangChain? | IBM', 'content': 'LangChain is an open source orchestration framework for application development using [large language models (LLMs)](https://www.ibm.com/think/topics/open-source-llms). Available in both Python- and Javascript-based libraries, LangChain’s tools and [APIs](https://www.ibm.com/think/topics/api) simplify the process of building LLM-driven applications like [chatbots](https://www.ibm.com/think/topics/chatbots) and [AI agents](https://www.ibm.com/think/topics/ai-agents). [...] LangChain is essentially a library of abstractions for Python and Javascript, representing common steps and concepts necessary to work with language models. These modular components—like functions and object classes—serve as the building blocks of generative AI programs. They can be “_chained_” together to create applications, minimizing the amount of code and fine understanding required to execute complex NLP tasks. Though LangChain’s abstracted approach may limit the extent to which an expert [...] ### LangGraph\\n\\n[LangGraph](https://www.ibm.com/think/topics/langgraph), created by LangChain,is an open source AI agent framework that supports multi-agent orchestration and enables developers to build[agentic workflows](https://www.ibm.com/think/topics/agentic-workflows)where different agents interact, specialize and collaborate.', 'score': 0.92491204, 'raw_content': None}, {'url': 'https://aws.amazon.com/what-is/langchain/', 'title': 'What is LangChain? - AWS', 'content': 'LangChain is an open source framework for building applications based on large language models (LLMs). LLMs are large deep-learning models pre-trained on large amounts of data that can generate responses to user queries—for example, answering questions or creating images from text-based prompts. LangChain provides tools and abstractions to improve the customization, accuracy, and relevancy of the information the models generate. For example, developers can use LangChain components to build new [...] Using Amazon Bedrock, Amazon Kendra, Amazon SageMaker JumpStart, LangChain, and your LLMs, you can build highly-accurate generative artificial intelligence (generative AI) applications on enterprise data. LangChain is the interface that ties these components together: [...] ### **LLM interface**\\n\\nLangChain provides APIs with which developers can connect and query LLMs from their code. Developers can interface with public and proprietary models like GPT, Bard, and PaLM with LangChain by making simple API calls instead of writing complex code.\\n\\n### **Prompt templates**', 'score': 0.9245858, 'raw_content': None}], 'response_time': 1.38})]\n",
      "-->Tools Condition Router<--\n",
      "--> Validation <--\n",
      "{'question': 'What is langchain', 'response_content': AIMessage(content='LangChain is an open-source framework designed to facilitate the integration of large language models (LLMs) into applications. It is intended for application development, providing tools and APIs that simplify the process of building LLM-driven applications such as chatbots and AI agents. \\n\\nKey aspects of LangChain include:\\n\\n1. **Integration Framework**: LangChain helps developers connect and query LLMs with ease, minimizing the amount of code required.\\n2. **Modular Components**: It consists of building blocks, like functions and object classes, that represent common steps needed to work with language models.\\n3. **Support for Multiple Languages**: LangChain is available in both Python and JavaScript, making it accessible for a variety of developers.\\n4. **Customization and Accuracy**: The framework offers tools to improve the customization and relevancy of the responses generated by LLMs.\\n5. **Multi-agent orchestration**: It supports workflows where different agents can interact, specialize, and collaborate.\\n\\nYou can find more detailed information about LangChain on its [Wikipedia page](https://en.wikipedia.org/wiki/LangChain) or the official [IBM introduction](https://www.ibm.com/think/topics/langchain).', additional_kwargs={'refusal': None}, response_metadata={'token_usage': {'completion_tokens': 242, 'prompt_tokens': 1974, 'total_tokens': 2216, 'completion_tokens_details': {'accepted_prediction_tokens': 0, 'audio_tokens': 0, 'reasoning_tokens': 0, 'rejected_prediction_tokens': 0}, 'prompt_tokens_details': {'audio_tokens': 0, 'cached_tokens': 0}}, 'model_name': 'gpt-4o-mini-2024-07-18', 'system_fingerprint': 'fp_34a54ae93c', 'id': 'chatcmpl-BiAFQbnPfmsjterDKl4BJoSTl3lfk', 'service_tier': 'default', 'finish_reason': 'stop', 'logprobs': None}, id='run--878b47b6-344b-41b3-b3a5-7dc6b3b3b700-0', usage_metadata={'input_tokens': 1974, 'output_tokens': 242, 'total_tokens': 2216, 'input_token_details': {'audio': 0, 'cache_read': 0}, 'output_token_details': {'audio': 0, 'reasoning': 0}})}\n",
      "--> Validation Router <--\n",
      "Validation Status: pass\n",
      "LangChain is an open-source framework designed to facilitate the integration of large language models (LLMs) into applications. It is intended for application development, providing tools and APIs that simplify the process of building LLM-driven applications such as chatbots and AI agents. \n",
      "\n",
      "Key aspects of LangChain include:\n",
      "\n",
      "1. **Integration Framework**: LangChain helps developers connect and query LLMs with ease, minimizing the amount of code required.\n",
      "2. **Modular Components**: It consists of building blocks, like functions and object classes, that represent common steps needed to work with language models.\n",
      "3. **Support for Multiple Languages**: LangChain is available in both Python and JavaScript, making it accessible for a variety of developers.\n",
      "4. **Customization and Accuracy**: The framework offers tools to improve the customization and relevancy of the responses generated by LLMs.\n",
      "5. **Multi-agent orchestration**: It supports workflows where different agents can interact, specialize, and collaborate.\n",
      "\n",
      "You can find more detailed information about LangChain on its [Wikipedia page](https://en.wikipedia.org/wiki/LangChain) or the official [IBM introduction](https://www.ibm.com/think/topics/langchain).\n"
     ]
    }
   ],
   "source": [
    "msg = app.invoke({'messages':['What is langchain']})\n",
    "if 'Related' in msg['messages']:\n",
    "    print(msg['messages'][-2])\n",
    "else:\n",
    "    print(msg['messages'][-2].content)"
   ]
  },
  {
   "cell_type": "code",
   "execution_count": 30,
   "id": "dd56c8ee",
   "metadata": {},
   "outputs": [
    {
     "data": {
      "text/plain": [
       "AIMessage(content='LangChain is an open-source software framework designed to facilitate the integration of large language models (LLMs) into applications. It provides tools and abstractions that help developers create LLM-driven applications, such as chatbots and AI agents, using Python and JavaScript. The framework offers a modular approach, allowing developers to \"chain\" together various components for building complex natural language processing (NLP) tasks with minimal code. \\n\\nHere are some key points about LangChain:\\n\\n1. **Integration of LLMs**: It helps integrate large language models into applications, streamlining the development process.\\n2. **Modular Components**: LangChain provides libraries of abstractions representing common tasks and concepts necessary for working with language models. \\n3. **Customization and Accuracy**: The framework improves the customization and accuracy of the information generated by LLMs.\\n4. **API Usage**: Developers can use simple API calls to connect with various public and proprietary models like GPT and Bard, without the need for extensive coding.\\n\\nFor more detailed information, you can visit the following resources:\\n- [LangChain on Wikipedia](https://en.wikipedia.org/wiki/LangChain)\\n- [What Is LangChain? | IBM](https://www.ibm.com/think/topics/langchain)\\n- [What is LangChain? - AWS](https://aws.amazon.com/what-is/langchain/)', additional_kwargs={'refusal': None}, response_metadata={'token_usage': {'completion_tokens': 276, 'prompt_tokens': 1979, 'total_tokens': 2255, 'completion_tokens_details': {'accepted_prediction_tokens': 0, 'audio_tokens': 0, 'reasoning_tokens': 0, 'rejected_prediction_tokens': 0}, 'prompt_tokens_details': {'audio_tokens': 0, 'cached_tokens': 0}}, 'model_name': 'gpt-4o-mini-2024-07-18', 'system_fingerprint': 'fp_34a54ae93c', 'id': 'chatcmpl-BiA5xZcxSn2ggZovQsiA2fzK3Pl9W', 'service_tier': 'default', 'finish_reason': 'stop', 'logprobs': None}, id='run--98b9f726-4621-4ff1-a415-5cc5b66c9a11-0', usage_metadata={'input_tokens': 1979, 'output_tokens': 276, 'total_tokens': 2255, 'input_token_details': {'audio': 0, 'cache_read': 0}, 'output_token_details': {'audio': 0, 'reasoning': 0}})"
      ]
     },
     "execution_count": 30,
     "metadata": {},
     "output_type": "execute_result"
    }
   ],
   "source": [
    "msg['messages'][-2]"
   ]
  },
  {
   "cell_type": "code",
   "execution_count": null,
   "id": "b551ffcc",
   "metadata": {},
   "outputs": [],
   "source": []
  }
 ],
 "metadata": {
  "kernelspec": {
   "display_name": "Python 3",
   "language": "python",
   "name": "python3"
  },
  "language_info": {
   "codemirror_mode": {
    "name": "ipython",
    "version": 3
   },
   "file_extension": ".py",
   "mimetype": "text/x-python",
   "name": "python",
   "nbconvert_exporter": "python",
   "pygments_lexer": "ipython3",
   "version": "3.12.0"
  }
 },
 "nbformat": 4,
 "nbformat_minor": 5
}
